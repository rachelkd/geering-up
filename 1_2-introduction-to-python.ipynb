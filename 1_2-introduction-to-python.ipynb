{
  "nbformat": 4,
  "nbformat_minor": 0,
  "metadata": {
    "colab": {
      "provenance": [],
      "include_colab_link": true
    },
    "kernelspec": {
      "name": "python3",
      "display_name": "Python 3"
    },
    "language_info": {
      "name": "python"
    }
  },
  "cells": [
    {
      "cell_type": "markdown",
      "metadata": {
        "id": "view-in-github",
        "colab_type": "text"
      },
      "source": [
        "<a href=\"https://colab.research.google.com/github/rachelkd/geering-up/blob/main/1_2-introduction-to-python.ipynb\" target=\"_parent\"><img src=\"https://colab.research.google.com/assets/colab-badge.svg\" alt=\"Open In Colab\"/></a>"
      ]
    },
    {
      "cell_type": "markdown",
      "source": [
        "\n",
        "# Section 1: Simple variables"
      ],
      "metadata": {
        "id": "tXQ1IQM_psmE"
      }
    },
    {
      "cell_type": "markdown",
      "source": [
        "There are different **types** of variables.\n",
        "\n",
        "A variable can either be a type:\n",
        "\n",
        "- String (text and characters)\n",
        "  - Note: Python does not have a distinct `char` type unlike Java!\n",
        "- Integer `int`\n",
        "- Float `float`\n",
        "- Boolean `bool`\n",
        "  - `True` or `False`\n",
        "\n",
        "We use an **assignment statement** to initialize, declare, and/or update variables.\n",
        "\n",
        "- Variable name left of `=` sign\n",
        "- Expression/value is right of `=`\n",
        "\n",
        "An **expression** is a combination of values, variables, operators, and function calls that the Python interpreter evaluates to produce a single value or object.\n",
        "\n",
        "Examples:\n",
        "\n",
        "```python\n",
        "3.0 + 1.5\n",
        "True\n",
        "8\n",
        "(True or False) and True\n",
        "```\n"
      ],
      "metadata": {
        "id": "SWUAbN7K1p4G"
      }
    },
    {
      "cell_type": "code",
      "execution_count": 3,
      "metadata": {
        "id": "_seuI15kALvu"
      },
      "outputs": [],
      "source": [
        "my_string = \"test string\"\n",
        "my_integer = 4\n",
        "my_float = 2.1\n",
        "my_boolean = True\n",
        "null_variable = None"
      ]
    },
    {
      "cell_type": "markdown",
      "source": [
        "We can check the type of a **variable** or **expression** by calling the `type` function and passing in the variable name or expression as a **parameter**."
      ],
      "metadata": {
        "id": "auWn8eEf3AtQ"
      }
    },
    {
      "cell_type": "code",
      "source": [
        "print(type(my_string))\n",
        "print(type(my_integer))\n",
        "print(type(my_float))\n",
        "print(type(my_boolean))\n",
        "print(type(null_variable))"
      ],
      "metadata": {
        "colab": {
          "base_uri": "https://localhost:8080/"
        },
        "id": "L2oB0xrC22uM",
        "outputId": "fdc5d281-888c-40c4-b5a9-346dd9d239f0"
      },
      "execution_count": 4,
      "outputs": [
        {
          "output_type": "stream",
          "name": "stdout",
          "text": [
            "<class 'str'>\n",
            "<class 'int'>\n",
            "<class 'float'>\n",
            "<class 'bool'>\n",
            "<class 'NoneType'>\n"
          ]
        }
      ]
    },
    {
      "cell_type": "code",
      "source": [
        "# TODO: Create a variable called my_type that stores the type of the type of any value (i.e., <class 'type'>)\n",
        "# Replace ... with your expression!\n",
        "#\n",
        "# HINT 1: One way to do this is to use the type() function TWICE.\n",
        "# HINT 2: You can use any variable (e.g., my_string) as the inner argument to type().\n",
        "# HINT 3: Use the print() function once to display the result.\n",
        "\n",
        "my_type = ...\n",
        "\n",
        "# Do not edit\n",
        "print(my_type)"
      ],
      "metadata": {
        "colab": {
          "base_uri": "https://localhost:8080/"
        },
        "id": "RXtGyq3A5Q_6",
        "outputId": "7b08908b-a911-4047-e3a6-c00da7ef6946"
      },
      "execution_count": 5,
      "outputs": [
        {
          "output_type": "stream",
          "name": "stdout",
          "text": [
            "Ellipsis\n"
          ]
        }
      ]
    },
    {
      "cell_type": "code",
      "source": [
        "#@title Test Cases (DO NOT EDIT)\n",
        "assert my_type is type, \"Expected my_type to be <class 'type'>\""
      ],
      "metadata": {
        "colab": {
          "base_uri": "https://localhost:8080/",
          "height": 162
        },
        "cellView": "form",
        "id": "6pi3x1ay5rK7",
        "outputId": "c5a5c650-26dc-4029-f67d-d82f87fe7a8c"
      },
      "execution_count": 6,
      "outputs": [
        {
          "output_type": "error",
          "ename": "AssertionError",
          "evalue": "Expected my_type to be <class 'type'>",
          "traceback": [
            "\u001b[0;31m---------------------------------------------------------------------------\u001b[0m",
            "\u001b[0;31mAssertionError\u001b[0m                            Traceback (most recent call last)",
            "\u001b[0;32m/tmp/ipython-input-6-4189985897.py\u001b[0m in \u001b[0;36m<cell line: 0>\u001b[0;34m()\u001b[0m\n\u001b[1;32m      1\u001b[0m \u001b[0;31m#@title Test Cases (DO NOT EDIT)\u001b[0m\u001b[0;34m\u001b[0m\u001b[0;34m\u001b[0m\u001b[0m\n\u001b[0;32m----> 2\u001b[0;31m \u001b[0;32massert\u001b[0m \u001b[0mmy_type\u001b[0m \u001b[0;32mis\u001b[0m \u001b[0mtype\u001b[0m\u001b[0;34m,\u001b[0m \u001b[0;34m\"Expected my_type to be <class 'type'>\"\u001b[0m\u001b[0;34m\u001b[0m\u001b[0;34m\u001b[0m\u001b[0m\n\u001b[0m",
            "\u001b[0;31mAssertionError\u001b[0m: Expected my_type to be <class 'type'>"
          ]
        }
      ]
    },
    {
      "cell_type": "markdown",
      "source": [
        "# Section 2: Comments and displaying text"
      ],
      "metadata": {
        "id": "BuX9cvDyxhTU"
      }
    },
    {
      "cell_type": "code",
      "source": [
        "# printing my number variables\n",
        "print(my_integer)\n",
        "print(my_float)\n",
        "\n",
        "# Below is a multi-line comment\n",
        "'''\n",
        "Display my string variable\n",
        "'''\n",
        "my_string\n",
        "\n",
        "\n",
        "# TODO: Use a keyboard shortcut (Ctrl + /) to quickly comment/uncomment lines of code\n",
        "# TIP: You can highlight multiple lines to comment them all at once\n",
        "Comment this line using the keyboard shortcut\n",
        "And this line\n",
        "And this line"
      ],
      "metadata": {
        "id": "xfG1HPxsoHeW"
      },
      "execution_count": null,
      "outputs": []
    },
    {
      "cell_type": "markdown",
      "source": [
        "#### Aside: What is the difference between `print(my_string)` and just `my_string`?\n",
        "\n",
        "In Google Colab, you can see a variable's value by just writing its name, like this:\n",
        "\n",
        "```python\n",
        "my_string = \"hello\"\n",
        "my_string  # This will show: 'hello'\n",
        "```\n",
        "\n",
        "If you write:\n",
        "\n",
        "```python\n",
        "print(my_string)  # This will also show: hello\n",
        "```\n",
        "The difference is:\n",
        "\n",
        "- `print(my_string)` always shows the value, no matter where you use it (in a script, notebook, or program).\n",
        "\n",
        "- Just writing `my_string` only works in notebooks or the *Python shell*\n",
        "  - It won't show anything if you run it in a regular program."
      ],
      "metadata": {
        "id": "vMTPYwxC-aI2"
      }
    },
    {
      "cell_type": "markdown",
      "source": [
        "# Section 3: If statements"
      ],
      "metadata": {
        "id": "IJOAoHB0p5HC"
      }
    },
    {
      "cell_type": "markdown",
      "source": [
        "We use if statements if we only want to run code if a certain condition is true or false.\n",
        "\n",
        "Example:\n",
        "- Print \"You got an A!\" if the `grade` is 85 or higher"
      ],
      "metadata": {
        "id": "eDnFHpRA_yGD"
      }
    },
    {
      "cell_type": "code",
      "source": [
        "my_new_number = 10\n",
        "\n",
        "my_integer > my_new_number"
      ],
      "metadata": {
        "id": "UmP5YBOlSwhQ"
      },
      "execution_count": null,
      "outputs": []
    },
    {
      "cell_type": "code",
      "source": [
        "# TODO: What number will be printed when this code is run?\n",
        "# Set answer to be the STRING of the number\n",
        "\n",
        "answer = ...\n",
        "\n",
        "\n",
        "print(\"greater number: \")\n",
        "\n",
        "if (my_integer > my_new_number):\n",
        "  print(my_integer)\n",
        "\n",
        "print(my_new_number)"
      ],
      "metadata": {
        "id": "azGUp12hxsiU"
      },
      "execution_count": null,
      "outputs": []
    },
    {
      "cell_type": "code",
      "source": [
        "#@title Test case (DO NOT EDIT)\n",
        "assert answer == \"10\", \"Expected answer to be \\\"10\\\"\""
      ],
      "metadata": {
        "cellView": "form",
        "id": "XlbmKsWXA2Xm"
      },
      "execution_count": null,
      "outputs": []
    },
    {
      "cell_type": "code",
      "source": [
        "# Change my_new_number so that the if condition is true\n",
        "\n",
        "my_new_number = ...\n",
        "\n",
        "\n",
        "\n",
        "print(\"greater number: \")\n",
        "\n",
        "if (my_integer > my_new_number):\n",
        "  print(my_integer)\n",
        "else:\n",
        "  print(my_new_number)"
      ],
      "metadata": {
        "id": "Bd2-KczAwv7p"
      },
      "execution_count": null,
      "outputs": []
    },
    {
      "cell_type": "markdown",
      "source": [
        "# Section 4: Lists"
      ],
      "metadata": {
        "id": "tKwo1kGT3LRp"
      }
    },
    {
      "cell_type": "markdown",
      "source": [
        "We use **lists** when we want to store a bunch of things together in one place.\n",
        "\n",
        "Think of a list like a basket — it can hold:\n",
        "\n",
        "- Numbers: `[1, 2, 3, 4]`\n",
        "- Words: `[\"apple\", \"banana\", \"cherry\"]`\n",
        "- Even a mix: `[7, \"cat\", True]`"
      ],
      "metadata": {
        "id": "CgTJ8De-BcW2"
      }
    },
    {
      "cell_type": "code",
      "source": [
        "my_list = []\n",
        "my_string_list = [\"first\", \"second\", \"third\"]\n",
        "my_integer_list = [1,2,3,4,5]\n",
        "\n",
        "my_integer_list"
      ],
      "metadata": {
        "id": "moFQqmde3PY6"
      },
      "execution_count": null,
      "outputs": []
    },
    {
      "cell_type": "markdown",
      "source": [
        "#### Accessing members/elements in our list\n",
        "\n",
        "In Python, we use **zero-based indexing**. This means the first item is at position 0, the second at 1, and so on."
      ],
      "metadata": {
        "id": "GgI1ygsEBxgE"
      }
    },
    {
      "cell_type": "code",
      "source": [
        "my_string_list[0]"
      ],
      "metadata": {
        "id": "Tt8VbqQr4Ek9"
      },
      "execution_count": null,
      "outputs": []
    },
    {
      "cell_type": "code",
      "source": [
        "# TODO: Create a variable called fourth that is the number 4 from my_integer_list\n",
        "\n",
        "fourth = ...  # fill in blank"
      ],
      "metadata": {
        "id": "s77dJWzmCRD9"
      },
      "execution_count": null,
      "outputs": []
    },
    {
      "cell_type": "markdown",
      "source": [
        "#### `len` function\n",
        "\n",
        "We can access the length of our list using the `len` function and passing in our list as an argument/parameter."
      ],
      "metadata": {
        "id": "1Pys0OKwCkZ8"
      }
    },
    {
      "cell_type": "code",
      "source": [
        "len(my_integer_list)"
      ],
      "metadata": {
        "id": "f7JhkFXAxAiy"
      },
      "execution_count": null,
      "outputs": []
    },
    {
      "cell_type": "markdown",
      "source": [
        "#### Other Useful List Functions\n",
        "\n",
        "- `append(item)` - adds to the end of the list\n",
        "- `insert(index, item)` - adds at a specific spot\n",
        "- `pop()` - removes and returns the last item\n",
        "- `remove(item)` - removes the first matching item\n",
        "- `sort()` - sorts the list in order\n",
        "- `reverse()` - reverses the list\n",
        "\n",
        "Note: these are special functions called **methods**.\n",
        "- Method: a function that *belongs to* an object\n",
        "\n",
        "We call methods slightly differently:\n",
        "\n",
        "```python\n",
        "my_list = [1, 2, 3]\n",
        "my_list.append(4)\n",
        "```"
      ],
      "metadata": {
        "id": "9Hpa92K2DEPd"
      }
    },
    {
      "cell_type": "code",
      "source": [
        "# TODO: Remove 2 and 5 from my_list only using the pop function\n",
        "#\n",
        "# TIP: Google Colab tells you what arguments a function can take if you hover\n",
        "# over the function with your cursor\n",
        "#\n",
        "# HINT: pop can take one argument or NO arguments (defaults to last element)\n",
        "\n",
        "\n",
        "my_list = [1, 2, 3, 4, 5]\n",
        "..."
      ],
      "metadata": {
        "id": "54RpsamDDVas"
      },
      "execution_count": null,
      "outputs": []
    },
    {
      "cell_type": "code",
      "source": [
        "#@title Test case (DO NOT EDIT)\n",
        "assert my_list == [1, 3, 4], \"Expected [1, 3, 4], got \" + str(my_list)"
      ],
      "metadata": {
        "id": "OkbMC40qG0Mz"
      },
      "execution_count": null,
      "outputs": []
    },
    {
      "cell_type": "markdown",
      "source": [
        "# Section 5: For Loops"
      ],
      "metadata": {
        "id": "l4qSPS__xS3s"
      }
    },
    {
      "cell_type": "markdown",
      "source": [
        "Is there a way to add all elements in our integer list to a variable called `sum`?"
      ],
      "metadata": {
        "id": "ManGmsjvIFm1"
      }
    },
    {
      "cell_type": "code",
      "source": [
        "my_integer_list = [1,2,3,4,5]"
      ],
      "metadata": {
        "id": "RDcX72CIISZ8"
      },
      "execution_count": null,
      "outputs": []
    },
    {
      "cell_type": "code",
      "source": [
        "sum = my_integer_list[0]\n",
        "sum = sum + my_integer_list[1]\n",
        "sum = sum + my_integer_list[2]\n",
        "sum = sum + my_integer_list[3]\n",
        "sum = sum + my_integer_list[4]\n",
        "sum"
      ],
      "metadata": {
        "id": "djF0IK7JxSOQ"
      },
      "execution_count": null,
      "outputs": []
    },
    {
      "cell_type": "markdown",
      "source": [
        "Is there a better way?\n",
        "\n",
        "A for loop lets you go through each item in a list one by one."
      ],
      "metadata": {
        "id": "08AYOZ7kIW9g"
      }
    },
    {
      "cell_type": "code",
      "source": [
        "loop_sum = 0\n",
        "for item in my_integer_list:\n",
        "  loop_sum = loop_sum + item\n",
        "\n",
        "loop_sum"
      ],
      "metadata": {
        "id": "ySItMFv5xbvY"
      },
      "execution_count": null,
      "outputs": []
    },
    {
      "cell_type": "markdown",
      "source": [
        "Sometimes we want to use the index number to get each item in a list:"
      ],
      "metadata": {
        "id": "_vZj6F11VbQv"
      }
    },
    {
      "cell_type": "code",
      "source": [
        "loop_sum_2 = 0\n",
        "for i in range(0, len(my_integer_list)):\n",
        "  loop_sum_2 = loop_sum_2 + my_integer_list[i]\n",
        "  print(\"after \" + str(i + 1) + \" iteration(s): \" + str(loop_sum_2))"
      ],
      "metadata": {
        "id": "33ukS75s0JEb"
      },
      "execution_count": null,
      "outputs": []
    },
    {
      "cell_type": "code",
      "source": [
        "# Testing code that will not work, as the range needs to be integers/ whole numbers\n",
        "# Uncomment the lines below and see what error you get:\n",
        "\n",
        "# for i in range(0, my_float):\n",
        "#   print(i)\n"
      ],
      "metadata": {
        "id": "eMC99rZpxmTL"
      },
      "execution_count": null,
      "outputs": []
    },
    {
      "cell_type": "code",
      "source": [
        "my_list = [9, 9, 9]\n",
        "\n",
        "for i in range(0, my_integer):\n",
        "  my_list.append(i)\n",
        "\n",
        "my_list"
      ],
      "metadata": {
        "id": "hKIz0GuoyGZI"
      },
      "execution_count": null,
      "outputs": []
    },
    {
      "cell_type": "markdown",
      "source": [
        "## While Loops\n",
        "\n",
        "**`while` loops** execute a set of statements as long as a condition is true.\n",
        "\n",
        "Every `for` loop can also be implemented with a `while` loop."
      ],
      "metadata": {
        "id": "zJNQcARSg0gG"
      }
    },
    {
      "cell_type": "code",
      "source": [
        "i = 0\n",
        "while i < my_integer:\n",
        "  my_list.append(i)\n",
        "  i += 1  # same as doing i = i + 1\n",
        "\n",
        "my_list"
      ],
      "metadata": {
        "id": "oFCyIRDHhAb8"
      },
      "execution_count": null,
      "outputs": []
    },
    {
      "cell_type": "markdown",
      "source": [
        "IMPORTANT: Notice that we add a number to `i` in the loop body. If we did not change the value of `i`, what would happen?"
      ],
      "metadata": {
        "id": "fVwKectLh5im"
      }
    },
    {
      "cell_type": "code",
      "source": [
        "i = 0\n",
        "while i < my_integer:\n",
        "  print(str(i) + \" < \" + str(my_integer))\n",
        "  i += 1"
      ],
      "metadata": {
        "id": "jbe83b0_igjl"
      },
      "execution_count": null,
      "outputs": []
    },
    {
      "cell_type": "markdown",
      "source": [
        "# Section 6: Functions"
      ],
      "metadata": {
        "id": "o0_7ZhLIyTci"
      }
    },
    {
      "cell_type": "markdown",
      "source": [
        "A function is a block of code which only runs when it is called.\n",
        "\n",
        "You can pass **parameters** (arguments or data) into a function.\n",
        "\n",
        "A function can also return data as a result (or not).\n",
        "\n",
        "We use functions when we want to be able to run the same code over and over again on different inputs of the same type.\n",
        "\n",
        "The following code uses three `for` loops to get the total sum of all three lists."
      ],
      "metadata": {
        "id": "0IA9x9flmFS9"
      }
    },
    {
      "cell_type": "code",
      "source": [
        "my_first_list = [1,2,3,4,5]\n",
        "my_second_list = [5,10,40,15]\n",
        "my_third_list = [3,6,9,12]\n",
        "\n",
        "total_sum = 0\n",
        "for item in my_first_list:\n",
        "  total_sum = total_sum + item\n",
        "\n",
        "for item in my_second_list:\n",
        "  total_sum = total_sum + item\n",
        "\n",
        "for item in my_third_list:\n",
        "  total_sum = total_sum + item\n",
        "\n",
        "total_sum"
      ],
      "metadata": {
        "id": "VdHnBiVk-5DU"
      },
      "execution_count": null,
      "outputs": []
    },
    {
      "cell_type": "markdown",
      "source": [
        "We define a function called `sum_of_list` that returns the sum of every number in the list."
      ],
      "metadata": {
        "id": "68xTVN_Qowjf"
      }
    },
    {
      "cell_type": "code",
      "source": [
        "def sum_of_list(my_list):\n",
        "  list_sum = 0\n",
        "  for item in my_list:\n",
        "      list_sum = list_sum + item\n",
        "  return list_sum"
      ],
      "metadata": {
        "id": "ikWAOvIC2iE-"
      },
      "execution_count": null,
      "outputs": []
    },
    {
      "cell_type": "code",
      "source": [
        "# Call the function:\n",
        "total_function_sum = sum_of_list(my_first_list) + sum_of_list(my_second_list) + sum_of_list(my_third_list)\n",
        "total_function_sum"
      ],
      "metadata": {
        "id": "MsDXxZn_21Sp"
      },
      "execution_count": null,
      "outputs": []
    },
    {
      "cell_type": "code",
      "source": [
        "def list_sum_and_items(my_list):\n",
        "  list_sum = 0\n",
        "  for item in my_list:\n",
        "      list_sum = list_sum + item\n",
        "  return list_sum, my_list"
      ],
      "metadata": {
        "id": "eiRR_WkQEvBh"
      },
      "execution_count": null,
      "outputs": []
    },
    {
      "cell_type": "code",
      "source": [
        "list_sum_and_items(my_first_list)"
      ],
      "metadata": {
        "id": "ZlvKoJClE9Xf"
      },
      "execution_count": null,
      "outputs": []
    },
    {
      "cell_type": "markdown",
      "source": [
        "All variables that we use inside a function body are LOCAL variables and can only be used in the function.\n",
        "\n",
        "In `list_sum_and_items`, `list_sum` is a local variable.\n",
        "We cannot use it outside of the function. See what happens when we run the code block below"
      ],
      "metadata": {
        "id": "OQrh8BlQpixa"
      }
    },
    {
      "cell_type": "code",
      "source": [
        "# Produce an error to show function scope\n",
        "# Uncomment the line below\n",
        "\n",
        "# list_sum"
      ],
      "metadata": {
        "id": "WDlFSaovCcbC"
      },
      "execution_count": null,
      "outputs": []
    },
    {
      "cell_type": "markdown",
      "source": [
        "# Section 7: Using Libraries"
      ],
      "metadata": {
        "id": "VG5NSPa55B5c"
      }
    },
    {
      "cell_type": "markdown",
      "source": [
        "Python **libraries** are collections of pre-written code (modules and packages) that provide specific functionalities.\n",
        "\n",
        "We can use packages to not have to write all code from scratch.\n",
        "\n",
        "Libraries contain classes, functions, and routines designed to simplify coding, automate tasks, manipulate data, perform computations, and much more.\n",
        "\n",
        "---\n",
        "\n",
        "Note:\n",
        "\n",
        "A Python **class** is a blueprint for creating objects. It defines properties (called attributes) and actions (called methods) that the objects created from the class can have.\n",
        "\n",
        "An **object** is an instance of a class. It has the actual values for the attributes defined in the class and can use the class's methods.\n",
        "\n",
        "- e.g., a `list` is a class in Python with methods like `append` and `pop`, which we've used before\n",
        "- `type` is also a class (it's the class of all classes!)\n",
        "\n",
        "```python\n",
        "class Dog:\n",
        "    def __init__(self, name):\n",
        "        self.name = name\n",
        "\n",
        "    def bark(self):\n",
        "        print(f\"{self.name} says woof!\")\n",
        "\n",
        "my_dog = Dog(\"Buddy\")  # Object\n",
        "my_dog.bark()          # Output: Buddy says woof!\n",
        "```\n"
      ],
      "metadata": {
        "id": "9R3WFNgDqXUY"
      }
    },
    {
      "cell_type": "markdown",
      "source": [
        "### NumPy\n",
        "\n",
        "NumPy is a Python library used for working with arrays.\n",
        "\n",
        "It also has functions for working in domain of linear algebra, fourier transform, and matrices.\n",
        "\n",
        "### Why use NumPy?\n",
        "\n",
        "Python lists are slow.\n",
        "\n",
        "NumPy provides an array object that is up to 50x faster than traditional Python lists.\n",
        "\n",
        "The array object in NumPy is called `ndarray`, it provides a lot of supporting functions that make working with `ndarray` very easy."
      ],
      "metadata": {
        "id": "jJPiebEhsGsH"
      }
    },
    {
      "cell_type": "code",
      "source": [
        "# Import the numpy library\n",
        "import numpy as np  # we can now refer to the numpy library using \"np\""
      ],
      "metadata": {
        "id": "-qDEtPis5IIp"
      },
      "execution_count": 7,
      "outputs": []
    },
    {
      "cell_type": "code",
      "source": [
        "simple_arr = np.array([1, 2, 3, 4, 5])\n",
        "\n",
        "print(simple_arr)\n",
        "\n",
        "simple_arr[0]"
      ],
      "metadata": {
        "colab": {
          "base_uri": "https://localhost:8080/"
        },
        "id": "R1RhNprS5MVY",
        "outputId": "a4225a1a-1d67-4a2e-9bf5-34425e87128c"
      },
      "execution_count": 8,
      "outputs": [
        {
          "output_type": "stream",
          "name": "stdout",
          "text": [
            "[1 2 3 4 5]\n"
          ]
        },
        {
          "output_type": "execute_result",
          "data": {
            "text/plain": [
              "np.int64(1)"
            ]
          },
          "metadata": {},
          "execution_count": 8
        }
      ]
    },
    {
      "cell_type": "markdown",
      "source": [
        "Notice that we index the same way as Python lists (starting from 0).\n",
        "\n",
        "`simple_arr[0]` evaluates to `np.int64(1)` meaning that the element in `simple_arr` at index 0 is a 64-bit integer.\n",
        "\n",
        "Below, we have a 2D array (a list of lists)! What does `two_dim_arr[0]` evaluate to?"
      ],
      "metadata": {
        "id": "4BhNZdxcsxey"
      }
    },
    {
      "cell_type": "code",
      "source": [
        "two_dim_arr = np.array([[1, 2, 3], [4, 5, 6]])\n",
        "\n",
        "print(two_dim_arr)\n",
        "\n",
        "print(\"two_dim_arr[0]: \" + str(two_dim_arr[0]))"
      ],
      "metadata": {
        "colab": {
          "base_uri": "https://localhost:8080/"
        },
        "id": "PEom-MZB5NHG",
        "outputId": "96de9464-5069-40c4-a640-48e0d817d259"
      },
      "execution_count": 11,
      "outputs": [
        {
          "output_type": "stream",
          "name": "stdout",
          "text": [
            "[[1 2 3]\n",
            " [4 5 6]]\n",
            "two_dim_arr[0]: [1 2 3]\n"
          ]
        }
      ]
    },
    {
      "cell_type": "code",
      "source": [
        "# To access the first integer (1), we have to index twice:\n",
        "# first to get the single list,\n",
        "# second time to get the integer\n",
        "\n",
        "two_dim_arr[0][0]"
      ],
      "metadata": {
        "colab": {
          "base_uri": "https://localhost:8080/"
        },
        "id": "IBim90L8svXd",
        "outputId": "1315d481-c440-4bf4-f647-d5e5bcae9cf8"
      },
      "execution_count": 336,
      "outputs": [
        {
          "output_type": "execute_result",
          "data": {
            "text/plain": [
              "np.int64(1)"
            ]
          },
          "metadata": {},
          "execution_count": 336
        }
      ]
    },
    {
      "cell_type": "markdown",
      "source": [
        "`nparray` has an attribute called `shape`.\n",
        "\n",
        "The shape of an array is the number of elements in each dimension.\n",
        "\n",
        "We can access attributes of an object using dot `.` notation"
      ],
      "metadata": {
        "id": "H7CP9geH8nan"
      }
    },
    {
      "cell_type": "code",
      "source": [
        "simple_arr"
      ],
      "metadata": {
        "colab": {
          "base_uri": "https://localhost:8080/"
        },
        "id": "_7QQB3bH9nu-",
        "outputId": "70af546b-d198-4563-db32-dc5027825c91"
      },
      "execution_count": 26,
      "outputs": [
        {
          "output_type": "execute_result",
          "data": {
            "text/plain": [
              "array([1, 2, 3, 4, 5])"
            ]
          },
          "metadata": {},
          "execution_count": 26
        }
      ]
    },
    {
      "cell_type": "code",
      "source": [
        "simple_arr.shape  # simple_arr has 1 dimension which has 5 elements"
      ],
      "metadata": {
        "colab": {
          "base_uri": "https://localhost:8080/"
        },
        "id": "VwECDNXk52JO",
        "outputId": "2c1207c6-9a67-42c8-d634-8ac416bbf5ae"
      },
      "execution_count": 27,
      "outputs": [
        {
          "output_type": "execute_result",
          "data": {
            "text/plain": [
              "(5,)"
            ]
          },
          "metadata": {},
          "execution_count": 27
        }
      ]
    },
    {
      "cell_type": "code",
      "source": [
        "two_dim_arr.shape  # two_dim has 2 dimensions; the first one has 2 elements and second has 3 elements\n",
        "# Note that the number of dimensions is the number of integers listed (in this case, 2)"
      ],
      "metadata": {
        "colab": {
          "base_uri": "https://localhost:8080/"
        },
        "id": "IUf7csoj55C7",
        "outputId": "58b341ec-b3a5-4825-aa5c-a661d9171477"
      },
      "execution_count": 24,
      "outputs": [
        {
          "output_type": "execute_result",
          "data": {
            "text/plain": [
              "(2, 3)"
            ]
          },
          "metadata": {},
          "execution_count": 24
        }
      ]
    },
    {
      "cell_type": "code",
      "source": [
        "new_array = np.array([[1, 2], [3, 4], [5, 6]])\n",
        "new_array.shape  # the array has 2 dimensions, where the first dimension has 3 elements and the second has 2."
      ],
      "metadata": {
        "colab": {
          "base_uri": "https://localhost:8080/"
        },
        "id": "dBO8oGM66Sg2",
        "outputId": "014db324-99ba-4341-a1c3-a674868a98ba"
      },
      "execution_count": 25,
      "outputs": [
        {
          "output_type": "execute_result",
          "data": {
            "text/plain": [
              "(3, 2)"
            ]
          },
          "metadata": {},
          "execution_count": 25
        }
      ]
    },
    {
      "cell_type": "code",
      "source": [
        "# TODO: Create an array with numbers 1 to 5\n",
        "my_array = ...\n",
        "\n",
        "# TODO: Multiply the array by 2\n",
        "doubled = ...\n",
        "\n",
        "# Print to check\n",
        "print(doubled)"
      ],
      "metadata": {
        "colab": {
          "base_uri": "https://localhost:8080/"
        },
        "id": "3xYKJwefDaOR",
        "outputId": "599bae94-2aab-4344-d1e9-ffe52400f581"
      },
      "execution_count": 29,
      "outputs": [
        {
          "output_type": "stream",
          "name": "stdout",
          "text": [
            "Ellipsis\n"
          ]
        }
      ]
    }
  ]
}