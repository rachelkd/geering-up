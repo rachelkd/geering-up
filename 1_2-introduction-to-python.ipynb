{
  "cells": [
    {
      "cell_type": "markdown",
      "metadata": {
        "colab_type": "text",
        "id": "view-in-github"
      },
      "source": [
        "<a href=\"https://colab.research.google.com/github/rachelkd/geering-up/blob/main/1_2-introduction-to-python.ipynb\" target=\"_parent\"><img src=\"https://colab.research.google.com/assets/colab-badge.svg\" alt=\"Open In Colab\"/></a>"
      ]
    },
    {
      "cell_type": "markdown",
      "metadata": {
        "id": "tXQ1IQM_psmE"
      },
      "source": [
        "\n",
        "# Section 1: Simple variables"
      ]
    },
    {
      "cell_type": "markdown",
      "metadata": {
        "id": "SWUAbN7K1p4G"
      },
      "source": [
        "There are different **types** of variables.\n",
        "\n",
        "A variable can either be a type:\n",
        "\n",
        "- String (text and characters)\n",
        "  - Note: Python does not have a distinct `char` type unlike Java!\n",
        "- Integer `int`\n",
        "- Float `float`\n",
        "- Boolean `bool`\n",
        "  - `True` or `False`\n",
        "\n",
        "We use an **assignment statement** to initialize, declare, and/or update variables.\n",
        "\n",
        "- Variable name left of `=` sign\n",
        "- Expression/value is right of `=`\n",
        "\n",
        "An **expression** is a combination of values, variables, operators, and function calls that the Python interpreter evaluates to produce a single value or object.\n",
        "\n",
        "Examples:\n",
        "\n",
        "```python\n",
        "3.0 + 1.5\n",
        "True\n",
        "8\n",
        "(True or False) and True\n",
        "```\n"
      ]
    },
    {
      "cell_type": "code",
      "execution_count": 5,
      "metadata": {
        "id": "_seuI15kALvu"
      },
      "outputs": [],
      "source": [
        "my_string = \"test string\"\n",
        "my_integer = 4\n",
        "my_float = 2.1\n",
        "my_boolean = True\n",
        "null_variable = None"
      ]
    },
    {
      "cell_type": "markdown",
      "metadata": {
        "id": "auWn8eEf3AtQ"
      },
      "source": [
        "We can check the type of a **variable** or **expression** by calling the `type` function and passing in the variable name or expression as a **parameter**."
      ]
    },
    {
      "cell_type": "code",
      "execution_count": 6,
      "metadata": {
        "colab": {
          "base_uri": "https://localhost:8080/"
        },
        "id": "L2oB0xrC22uM",
        "outputId": "fdc5d281-888c-40c4-b5a9-346dd9d239f0"
      },
      "outputs": [
        {
          "name": "stdout",
          "output_type": "stream",
          "text": [
            "<class 'str'>\n",
            "<class 'int'>\n",
            "<class 'float'>\n",
            "<class 'bool'>\n",
            "<class 'NoneType'>\n"
          ]
        }
      ],
      "source": [
        "print(type(my_string))\n",
        "print(type(my_integer))\n",
        "print(type(my_float))\n",
        "print(type(my_boolean))\n",
        "print(type(null_variable))"
      ]
    },
    {
      "cell_type": "code",
      "execution_count": 7,
      "metadata": {
        "colab": {
          "base_uri": "https://localhost:8080/"
        },
        "id": "RXtGyq3A5Q_6",
        "outputId": "7b08908b-a911-4047-e3a6-c00da7ef6946"
      },
      "outputs": [
        {
          "name": "stdout",
          "output_type": "stream",
          "text": [
            "Ellipsis\n"
          ]
        }
      ],
      "source": [
        "# TODO: Create a variable called my_type that stores the type of the type of any value (i.e., <class 'type'>)\n",
        "# Replace ... with your expression!\n",
        "#\n",
        "# HINT 1: One way to do this is to use the type() function TWICE.\n",
        "# HINT 2: You can use any variable (e.g., my_string) as the inner argument to type().\n",
        "# HINT 3: Use the print() function once to display the result.\n",
        "\n",
        "my_type = ...\n",
        "\n",
        "# Do not edit\n",
        "print(my_type)"
      ]
    },
    {
      "cell_type": "code",
      "execution_count": 8,
      "metadata": {
        "cellView": "form",
        "colab": {
          "base_uri": "https://localhost:8080/",
          "height": 162
        },
        "id": "6pi3x1ay5rK7",
        "outputId": "c5a5c650-26dc-4029-f67d-d82f87fe7a8c"
      },
      "outputs": [
        {
          "ename": "AssertionError",
          "evalue": "Expected my_type to be <class 'type'>",
          "output_type": "error",
          "traceback": [
            "\u001b[31m---------------------------------------------------------------------------\u001b[39m",
            "\u001b[31mAssertionError\u001b[39m                            Traceback (most recent call last)",
            "\u001b[36mCell\u001b[39m\u001b[36m \u001b[39m\u001b[32mIn[8]\u001b[39m\u001b[32m, line 2\u001b[39m\n\u001b[32m      1\u001b[39m \u001b[38;5;66;03m#@title Test Cases (DO NOT EDIT)\u001b[39;00m\n\u001b[32m----> \u001b[39m\u001b[32m2\u001b[39m \u001b[38;5;28;01massert\u001b[39;00m my_type \u001b[38;5;129;01mis\u001b[39;00m \u001b[38;5;28mtype\u001b[39m, \u001b[33m\"\u001b[39m\u001b[33mExpected my_type to be <class \u001b[39m\u001b[33m'\u001b[39m\u001b[33mtype\u001b[39m\u001b[33m'\u001b[39m\u001b[33m>\u001b[39m\u001b[33m\"\u001b[39m\n",
            "\u001b[31mAssertionError\u001b[39m: Expected my_type to be <class 'type'>"
          ]
        }
      ],
      "source": [
        "#@title Test Cases (DO NOT EDIT)\n",
        "assert my_type is type, \"Expected my_type to be <class 'type'>\""
      ]
    },
    {
      "cell_type": "markdown",
      "metadata": {
        "id": "BuX9cvDyxhTU"
      },
      "source": [
        "# Section 2: Comments and displaying text"
      ]
    },
    {
      "cell_type": "code",
      "execution_count": null,
      "metadata": {
        "id": "xfG1HPxsoHeW"
      },
      "outputs": [],
      "source": [
        "# printing my number variables\n",
        "print(my_integer)\n",
        "print(my_float)\n",
        "\n",
        "# Below is a multi-line comment\n",
        "'''\n",
        "Display my string variable\n",
        "'''\n",
        "my_string\n",
        "\n",
        "\n",
        "# TODO: Use a keyboard shortcut (Ctrl + /) to quickly comment/uncomment lines of code\n",
        "# TIP: You can highlight multiple lines to comment them all at once\n",
        "Comment this line using the keyboard shortcut\n",
        "And this line\n",
        "And this line"
      ]
    },
    {
      "cell_type": "markdown",
      "metadata": {
        "id": "vMTPYwxC-aI2"
      },
      "source": [
        "#### Aside: What is the difference between `print(my_string)` and just `my_string`?\n",
        "\n",
        "In Google Colab, you can see a variable's value by just writing its name, like this:\n",
        "\n",
        "```python\n",
        "my_string = \"hello\"\n",
        "my_string  # This will show: 'hello'\n",
        "```\n",
        "\n",
        "If you write:\n",
        "\n",
        "```python\n",
        "print(my_string)  # This will also show: hello\n",
        "```\n",
        "The difference is:\n",
        "\n",
        "- `print(my_string)` always shows the value, no matter where you use it (in a script, notebook, or program).\n",
        "\n",
        "- Just writing `my_string` only works in notebooks or the *Python shell*\n",
        "  - It won't show anything if you run it in a regular program."
      ]
    },
    {
      "cell_type": "markdown",
      "metadata": {
        "id": "IJOAoHB0p5HC"
      },
      "source": [
        "# Section 3: If statements"
      ]
    },
    {
      "cell_type": "markdown",
      "metadata": {
        "id": "eDnFHpRA_yGD"
      },
      "source": [
        "We use if statements if we only want to run code if a certain condition is true or false.\n",
        "\n",
        "Example:\n",
        "- Print \"You got an A!\" if the `grade` is 85 or higher"
      ]
    },
    {
      "cell_type": "code",
      "execution_count": null,
      "metadata": {
        "id": "UmP5YBOlSwhQ"
      },
      "outputs": [],
      "source": [
        "my_integer = 4\n",
        "my_new_number = 10\n",
        "\n",
        "my_integer > my_new_number"
      ]
    },
    {
      "cell_type": "code",
      "execution_count": null,
      "metadata": {
        "id": "azGUp12hxsiU"
      },
      "outputs": [],
      "source": [
        "# TODO: What number will be printed when this code is run?\n",
        "# Set answer to be the STRING of the number\n",
        "\n",
        "answer = ...\n",
        "\n",
        "\n",
        "print(\"greater number: \")\n",
        "\n",
        "if (my_integer > my_new_number):\n",
        "  print(my_integer)\n",
        "\n",
        "print(my_new_number)"
      ]
    },
    {
      "cell_type": "code",
      "execution_count": null,
      "metadata": {
        "cellView": "form",
        "id": "XlbmKsWXA2Xm"
      },
      "outputs": [],
      "source": [
        "#@title Test case (DO NOT EDIT)\n",
        "assert answer == \"10\", \"Expected answer to be \\\"10\\\"\""
      ]
    },
    {
      "cell_type": "code",
      "execution_count": null,
      "metadata": {
        "id": "Bd2-KczAwv7p"
      },
      "outputs": [],
      "source": [
        "# Change my_new_number so that the if condition is true\n",
        "\n",
        "my_new_number = ...\n",
        "\n",
        "\n",
        "\n",
        "print(\"greater number: \")\n",
        "\n",
        "if (my_integer > my_new_number):\n",
        "  print(my_integer)\n",
        "else:\n",
        "  print(my_new_number)"
      ]
    },
    {
      "cell_type": "markdown",
      "metadata": {
        "id": "tKwo1kGT3LRp"
      },
      "source": [
        "# Section 4: Lists"
      ]
    },
    {
      "cell_type": "markdown",
      "metadata": {
        "id": "CgTJ8De-BcW2"
      },
      "source": [
        "We use **lists** when we want to store a bunch of things together in one place.\n",
        "\n",
        "Think of a list like a basket — it can hold:\n",
        "\n",
        "- Numbers: `[1, 2, 3, 4]`\n",
        "- Words: `[\"apple\", \"banana\", \"cherry\"]`\n",
        "- Even a mix: `[7, \"cat\", True]`"
      ]
    },
    {
      "cell_type": "code",
      "execution_count": null,
      "metadata": {
        "id": "moFQqmde3PY6"
      },
      "outputs": [],
      "source": [
        "my_list = []\n",
        "my_string_list = [\"first\", \"second\", \"third\"]\n",
        "my_integer_list = [1,2,3,4,5]\n",
        "\n",
        "my_integer_list"
      ]
    },
    {
      "cell_type": "markdown",
      "metadata": {
        "id": "GgI1ygsEBxgE"
      },
      "source": [
        "#### Accessing members/elements in our list\n",
        "\n",
        "In Python, we use **zero-based indexing**. This means the first item is at position 0, the second at 1, and so on."
      ]
    },
    {
      "cell_type": "code",
      "execution_count": null,
      "metadata": {
        "id": "Tt8VbqQr4Ek9"
      },
      "outputs": [],
      "source": [
        "my_string_list[0]"
      ]
    },
    {
      "cell_type": "code",
      "execution_count": null,
      "metadata": {
        "id": "s77dJWzmCRD9"
      },
      "outputs": [],
      "source": [
        "# TODO: Create a variable called fourth that is the number 4 from my_integer_list\n",
        "\n",
        "fourth = ...  # fill in blank"
      ]
    },
    {
      "cell_type": "markdown",
      "metadata": {
        "id": "1Pys0OKwCkZ8"
      },
      "source": [
        "#### `len` function\n",
        "\n",
        "We can access the length of our list using the `len` function and passing in our list as an argument/parameter."
      ]
    },
    {
      "cell_type": "code",
      "execution_count": null,
      "metadata": {
        "id": "f7JhkFXAxAiy"
      },
      "outputs": [],
      "source": [
        "len(my_integer_list)"
      ]
    },
    {
      "cell_type": "markdown",
      "metadata": {
        "id": "9Hpa92K2DEPd"
      },
      "source": [
        "#### Other Useful List Functions\n",
        "\n",
        "- `append(item)` - adds to the end of the list\n",
        "- `insert(index, item)` - adds at a specific spot\n",
        "- `pop()` - removes and returns the last item\n",
        "- `remove(item)` - removes the first matching item\n",
        "- `sort()` - sorts the list in order\n",
        "- `reverse()` - reverses the list\n",
        "\n",
        "Note: these are special functions called **methods**.\n",
        "- Method: a function that *belongs to* an object\n",
        "\n",
        "We call methods slightly differently:\n",
        "\n",
        "```python\n",
        "my_list = [1, 2, 3]\n",
        "my_list.append(4)\n",
        "```"
      ]
    },
    {
      "cell_type": "code",
      "execution_count": null,
      "metadata": {
        "id": "54RpsamDDVas"
      },
      "outputs": [],
      "source": [
        "# TODO: Remove 2 and 5 from my_list only using the pop function\n",
        "#\n",
        "# TIP: Google Colab tells you what arguments a function can take if you hover\n",
        "# over the function with your cursor\n",
        "#\n",
        "# HINT: pop can take one argument or NO arguments (defaults to last element)\n",
        "\n",
        "\n",
        "my_list = [1, 2, 3, 4, 5]\n",
        "..."
      ]
    },
    {
      "cell_type": "code",
      "execution_count": null,
      "metadata": {
        "id": "OkbMC40qG0Mz"
      },
      "outputs": [],
      "source": [
        "#@title Test case (DO NOT EDIT)\n",
        "assert my_list == [1, 3, 4], \"Expected [1, 3, 4], got \" + str(my_list)"
      ]
    },
    {
      "cell_type": "markdown",
      "metadata": {
        "id": "l4qSPS__xS3s"
      },
      "source": [
        "# Section 5: For Loops"
      ]
    },
    {
      "cell_type": "markdown",
      "metadata": {
        "id": "ManGmsjvIFm1"
      },
      "source": [
        "Is there a way to add all elements in our integer list to a variable called `sum`?"
      ]
    },
    {
      "cell_type": "code",
      "execution_count": null,
      "metadata": {
        "id": "RDcX72CIISZ8"
      },
      "outputs": [],
      "source": [
        "my_integer_list = [1,2,3,4,5]"
      ]
    },
    {
      "cell_type": "code",
      "execution_count": null,
      "metadata": {
        "id": "djF0IK7JxSOQ"
      },
      "outputs": [],
      "source": [
        "sum = my_integer_list[0]\n",
        "sum = sum + my_integer_list[1]\n",
        "sum = sum + my_integer_list[2]\n",
        "sum = sum + my_integer_list[3]\n",
        "sum = sum + my_integer_list[4]\n",
        "sum"
      ]
    },
    {
      "cell_type": "markdown",
      "metadata": {
        "id": "08AYOZ7kIW9g"
      },
      "source": [
        "Is there a better way?\n",
        "\n",
        "A for loop lets you go through each item in a list one by one."
      ]
    },
    {
      "cell_type": "code",
      "execution_count": null,
      "metadata": {
        "id": "ySItMFv5xbvY"
      },
      "outputs": [],
      "source": [
        "loop_sum = 0\n",
        "for item in my_integer_list:\n",
        "  loop_sum = loop_sum + item\n",
        "\n",
        "loop_sum"
      ]
    },
    {
      "cell_type": "markdown",
      "metadata": {
        "id": "_vZj6F11VbQv"
      },
      "source": [
        "Sometimes we want to use the index number to get each item in a list:"
      ]
    },
    {
      "cell_type": "code",
      "execution_count": null,
      "metadata": {
        "id": "33ukS75s0JEb"
      },
      "outputs": [],
      "source": [
        "loop_sum_2 = 0\n",
        "for i in range(0, len(my_integer_list)):\n",
        "  loop_sum_2 = loop_sum_2 + my_integer_list[i]\n",
        "  print(\"after \" + str(i + 1) + \" iteration(s): \" + str(loop_sum_2))"
      ]
    },
    {
      "cell_type": "code",
      "execution_count": null,
      "metadata": {
        "id": "eMC99rZpxmTL"
      },
      "outputs": [],
      "source": [
        "# Testing code that will not work, as the range needs to be integers/ whole numbers\n",
        "# Uncomment the lines below and see what error you get:\n",
        "\n",
        "# for i in range(0, my_float):\n",
        "#   print(i)"
      ]
    },
    {
      "cell_type": "code",
      "execution_count": null,
      "metadata": {
        "id": "hKIz0GuoyGZI"
      },
      "outputs": [],
      "source": [
        "my_list = [9, 9, 9]\n",
        "\n",
        "for i in range(0, my_integer):\n",
        "  my_list.append(i)\n",
        "\n",
        "my_list"
      ]
    },
    {
      "cell_type": "markdown",
      "metadata": {
        "id": "zJNQcARSg0gG"
      },
      "source": [
        "## While Loops\n",
        "\n",
        "**`while` loops** execute a set of statements as long as a condition is true.\n",
        "\n",
        "Every `for` loop can also be implemented with a `while` loop."
      ]
    },
    {
      "cell_type": "code",
      "execution_count": null,
      "metadata": {
        "id": "oFCyIRDHhAb8"
      },
      "outputs": [],
      "source": [
        "i = 0\n",
        "while i < my_integer:\n",
        "  my_list.append(i)\n",
        "  i += 1  # same as doing i = i + 1\n",
        "\n",
        "my_list"
      ]
    },
    {
      "cell_type": "markdown",
      "metadata": {
        "id": "fVwKectLh5im"
      },
      "source": [
        "IMPORTANT: Notice that we add a number to `i` in the loop body. If we did not change the value of `i`, what would happen?"
      ]
    },
    {
      "cell_type": "code",
      "execution_count": null,
      "metadata": {
        "id": "jbe83b0_igjl"
      },
      "outputs": [],
      "source": [
        "i = 0\n",
        "while i < my_integer:\n",
        "  print(str(i) + \" < \" + str(my_integer))\n",
        "  i += 1"
      ]
    },
    {
      "cell_type": "markdown",
      "metadata": {
        "id": "o0_7ZhLIyTci"
      },
      "source": [
        "# Section 6: Functions"
      ]
    },
    {
      "cell_type": "markdown",
      "metadata": {
        "id": "0IA9x9flmFS9"
      },
      "source": [
        "A function is a block of code which only runs when it is called.\n",
        "\n",
        "You can pass **parameters** (arguments or data) into a function.\n",
        "\n",
        "A function can also return data as a result (or not).\n",
        "\n",
        "We use functions when we want to be able to run the same code over and over again on different inputs of the same type.\n",
        "\n",
        "The following code uses three `for` loops to get the total sum of all three lists."
      ]
    },
    {
      "cell_type": "code",
      "execution_count": null,
      "metadata": {
        "id": "VdHnBiVk-5DU"
      },
      "outputs": [],
      "source": [
        "my_first_list = [1,2,3,4,5]\n",
        "my_second_list = [5,10,40,15]\n",
        "my_third_list = [3,6,9,12]\n",
        "\n",
        "total_sum = 0\n",
        "for item in my_first_list:\n",
        "  total_sum = total_sum + item\n",
        "\n",
        "for item in my_second_list:\n",
        "  total_sum = total_sum + item\n",
        "\n",
        "for item in my_third_list:\n",
        "  total_sum = total_sum + item\n",
        "\n",
        "total_sum"
      ]
    },
    {
      "cell_type": "markdown",
      "metadata": {
        "id": "68xTVN_Qowjf"
      },
      "source": [
        "We define a function called `sum_of_list` that returns the sum of every number in the list."
      ]
    },
    {
      "cell_type": "code",
      "execution_count": null,
      "metadata": {
        "id": "ikWAOvIC2iE-"
      },
      "outputs": [],
      "source": [
        "def sum_of_list(my_list):\n",
        "  list_sum = 0\n",
        "  for item in my_list:\n",
        "      list_sum = list_sum + item\n",
        "  return list_sum"
      ]
    },
    {
      "cell_type": "code",
      "execution_count": null,
      "metadata": {
        "id": "MsDXxZn_21Sp"
      },
      "outputs": [],
      "source": [
        "# Call the function:\n",
        "total_function_sum = sum_of_list(my_first_list) + sum_of_list(my_second_list) + sum_of_list(my_third_list)\n",
        "total_function_sum"
      ]
    },
    {
      "cell_type": "code",
      "execution_count": null,
      "metadata": {
        "id": "eiRR_WkQEvBh"
      },
      "outputs": [],
      "source": [
        "def list_sum_and_items(my_list):\n",
        "  list_sum = 0\n",
        "  for item in my_list:\n",
        "      list_sum = list_sum + item\n",
        "  return list_sum, my_list"
      ]
    },
    {
      "cell_type": "code",
      "execution_count": null,
      "metadata": {
        "id": "ZlvKoJClE9Xf"
      },
      "outputs": [],
      "source": [
        "list_sum_and_items(my_first_list)"
      ]
    },
    {
      "cell_type": "markdown",
      "metadata": {
        "id": "OQrh8BlQpixa"
      },
      "source": [
        "All variables that we use inside a function body are LOCAL variables and can only be used in the function.\n",
        "\n",
        "In `list_sum_and_items`, `list_sum` is a local variable.\n",
        "We cannot use it outside of the function. See what happens when we run the code block below"
      ]
    },
    {
      "cell_type": "code",
      "execution_count": null,
      "metadata": {
        "id": "WDlFSaovCcbC"
      },
      "outputs": [],
      "source": [
        "# Produce an error to show function scope\n",
        "# Uncomment the line below\n",
        "\n",
        "# list_sum"
      ]
    },
    {
      "cell_type": "markdown",
      "metadata": {
        "id": "VG5NSPa55B5c"
      },
      "source": [
        "# Section 7: Using Libraries"
      ]
    },
    {
      "cell_type": "markdown",
      "metadata": {
        "id": "9R3WFNgDqXUY"
      },
      "source": [
        "Python **libraries** are collections of pre-written code (modules and packages) that provide specific functionalities.\n",
        "\n",
        "We can use packages to not have to write all code from scratch.\n",
        "\n",
        "Libraries contain classes, functions, and routines designed to simplify coding, automate tasks, manipulate data, perform computations, and much more.\n",
        "\n",
        "---\n",
        "\n",
        "Note:\n",
        "\n",
        "A Python **class** is a blueprint for creating objects. It defines properties (called attributes) and actions (called methods) that the objects created from the class can have.\n",
        "\n",
        "An **object** is an instance of a class. It has the actual values for the attributes defined in the class and can use the class's methods.\n",
        "\n",
        "- e.g., a `list` is a class in Python with methods like `append` and `pop`, which we've used before\n",
        "- `type` is also a class (it's the class of all classes!)\n",
        "\n",
        "```python\n",
        "class Dog:\n",
        "    def __init__(self, name):\n",
        "        self.name = name\n",
        "\n",
        "    def bark(self):\n",
        "        print(f\"{self.name} says woof!\")\n",
        "\n",
        "my_dog = Dog(\"Buddy\")  # Object\n",
        "my_dog.bark()          # Output: Buddy says woof!\n",
        "```\n"
      ]
    },
    {
      "cell_type": "markdown",
      "metadata": {
        "id": "jJPiebEhsGsH"
      },
      "source": [
        "### NumPy\n",
        "\n",
        "NumPy is a Python library used for working with arrays.\n",
        "\n",
        "It also has functions for working in domain of linear algebra, fourier transform, and matrices.\n",
        "\n",
        "### Why use NumPy?\n",
        "\n",
        "Python lists are slow.\n",
        "\n",
        "NumPy provides an array object that is up to 50x faster than traditional Python lists.\n",
        "\n",
        "The array object in NumPy is called `ndarray`, it provides a lot of supporting functions that make working with `ndarray` very easy."
      ]
    },
    {
      "cell_type": "code",
      "execution_count": 9,
      "metadata": {
        "id": "-qDEtPis5IIp"
      },
      "outputs": [],
      "source": [
        "# Import the numpy library\n",
        "import numpy as np  # we can now refer to the numpy library using \"np\""
      ]
    },
    {
      "cell_type": "code",
      "execution_count": 10,
      "metadata": {
        "colab": {
          "base_uri": "https://localhost:8080/"
        },
        "id": "R1RhNprS5MVY",
        "outputId": "a4225a1a-1d67-4a2e-9bf5-34425e87128c"
      },
      "outputs": [
        {
          "name": "stdout",
          "output_type": "stream",
          "text": [
            "[1 2 3 4 5]\n"
          ]
        },
        {
          "data": {
            "text/plain": [
              "np.int64(1)"
            ]
          },
          "execution_count": 10,
          "metadata": {},
          "output_type": "execute_result"
        }
      ],
      "source": [
        "simple_arr = np.array([1, 2, 3, 4, 5])\n",
        "\n",
        "print(simple_arr)\n",
        "\n",
        "simple_arr[0]"
      ]
    },
    {
      "cell_type": "markdown",
      "metadata": {
        "id": "4BhNZdxcsxey"
      },
      "source": [
        "Notice that we index the same way as Python lists (starting from 0).\n",
        "\n",
        "`simple_arr[0]` evaluates to `np.int64(1)` meaning that the element in `simple_arr` at index 0 is a 64-bit integer.\n",
        "\n",
        "Below, we have a 2D array (a list of lists)! What does `two_dim_arr[0]` evaluate to?"
      ]
    },
    {
      "cell_type": "code",
      "execution_count": 11,
      "metadata": {
        "colab": {
          "base_uri": "https://localhost:8080/"
        },
        "id": "PEom-MZB5NHG",
        "outputId": "96de9464-5069-40c4-a640-48e0d817d259"
      },
      "outputs": [
        {
          "name": "stdout",
          "output_type": "stream",
          "text": [
            "[[1 2 3]\n",
            " [4 5 6]]\n",
            "two_dim_arr[0]: [1 2 3]\n"
          ]
        }
      ],
      "source": [
        "two_dim_arr = np.array([[1, 2, 3], [4, 5, 6]])\n",
        "\n",
        "print(two_dim_arr)\n",
        "\n",
        "print(\"two_dim_arr[0]: \" + str(two_dim_arr[0]))"
      ]
    },
    {
      "cell_type": "code",
      "execution_count": 12,
      "metadata": {
        "colab": {
          "base_uri": "https://localhost:8080/"
        },
        "id": "IBim90L8svXd",
        "outputId": "1315d481-c440-4bf4-f647-d5e5bcae9cf8"
      },
      "outputs": [
        {
          "data": {
            "text/plain": [
              "np.int64(1)"
            ]
          },
          "execution_count": 12,
          "metadata": {},
          "output_type": "execute_result"
        }
      ],
      "source": [
        "# To access the first integer (1), we have to index twice:\n",
        "# first to get the single list,\n",
        "# second time to get the integer\n",
        "\n",
        "two_dim_arr[0][0]"
      ]
    },
    {
      "cell_type": "markdown",
      "metadata": {
        "id": "H7CP9geH8nan"
      },
      "source": [
        "`nparray` has an attribute called `shape`.\n",
        "\n",
        "The shape of an array is the number of elements in each dimension.\n",
        "\n",
        "We can access attributes of an object using dot `.` notation"
      ]
    },
    {
      "cell_type": "code",
      "execution_count": 13,
      "metadata": {
        "colab": {
          "base_uri": "https://localhost:8080/"
        },
        "id": "_7QQB3bH9nu-",
        "outputId": "70af546b-d198-4563-db32-dc5027825c91"
      },
      "outputs": [
        {
          "data": {
            "text/plain": [
              "array([1, 2, 3, 4, 5])"
            ]
          },
          "execution_count": 13,
          "metadata": {},
          "output_type": "execute_result"
        }
      ],
      "source": [
        "simple_arr"
      ]
    },
    {
      "cell_type": "code",
      "execution_count": 14,
      "metadata": {
        "colab": {
          "base_uri": "https://localhost:8080/"
        },
        "id": "VwECDNXk52JO",
        "outputId": "2c1207c6-9a67-42c8-d634-8ac416bbf5ae"
      },
      "outputs": [
        {
          "data": {
            "text/plain": [
              "(5,)"
            ]
          },
          "execution_count": 14,
          "metadata": {},
          "output_type": "execute_result"
        }
      ],
      "source": [
        "simple_arr.shape  # simple_arr has 1 dimension which has 5 elements"
      ]
    },
    {
      "cell_type": "code",
      "execution_count": 15,
      "metadata": {
        "colab": {
          "base_uri": "https://localhost:8080/"
        },
        "id": "IUf7csoj55C7",
        "outputId": "58b341ec-b3a5-4825-aa5c-a661d9171477"
      },
      "outputs": [
        {
          "data": {
            "text/plain": [
              "(2, 3)"
            ]
          },
          "execution_count": 15,
          "metadata": {},
          "output_type": "execute_result"
        }
      ],
      "source": [
        "two_dim_arr.shape  # two_dim has 2 dimensions; the first one has 2 elements and second has 3 elements\n",
        "# Note that the number of dimensions is the number of integers listed (in this case, 2)"
      ]
    },
    {
      "cell_type": "code",
      "execution_count": 18,
      "metadata": {
        "colab": {
          "base_uri": "https://localhost:8080/"
        },
        "id": "dBO8oGM66Sg2",
        "outputId": "014db324-99ba-4341-a1c3-a674868a98ba"
      },
      "outputs": [
        {
          "data": {
            "text/plain": [
              "(3, 2)"
            ]
          },
          "execution_count": 18,
          "metadata": {},
          "output_type": "execute_result"
        }
      ],
      "source": [
        "arr = [\n",
        "    [1, 2],\n",
        "    [3, 4],\n",
        "    [5, 6]\n",
        "]\n",
        "\n",
        "new_array = np.array(arr)\n",
        "new_array.shape  # the array has 2 dimensions, where the first dimension has 3 elements and the second has 2."
      ]
    },
    {
      "cell_type": "code",
      "execution_count": null,
      "metadata": {
        "colab": {
          "base_uri": "https://localhost:8080/"
        },
        "id": "3xYKJwefDaOR",
        "outputId": "599bae94-2aab-4344-d1e9-ffe52400f581"
      },
      "outputs": [
        {
          "name": "stdout",
          "output_type": "stream",
          "text": [
            "Ellipsis\n"
          ]
        }
      ],
      "source": [
        "# TODO: Create an array with numbers 1 to 5\n",
        "my_array = ...\n",
        "\n",
        "# TODO: Multiply the array by 2 without using a loop\n",
        "# HINT: You can use the * operator to multiply arrays element-wise\n",
        "doubled = ...\n",
        "\n",
        "# Print to check\n",
        "print(doubled)"
      ]
    },
    {
      "cell_type": "code",
      "execution_count": 23,
      "metadata": {},
      "outputs": [
        {
          "ename": "AssertionError",
          "evalue": "Make sure your array has numbers 1-5 and each is multiplied by 2!",
          "output_type": "error",
          "traceback": [
            "\u001b[31m---------------------------------------------------------------------------\u001b[39m",
            "\u001b[31mAssertionError\u001b[39m                            Traceback (most recent call last)",
            "\u001b[36mCell\u001b[39m\u001b[36m \u001b[39m\u001b[32mIn[23]\u001b[39m\u001b[32m, line 4\u001b[39m\n\u001b[32m      1\u001b[39m \u001b[38;5;66;03m#@title Test cases (DO NOT EDIT)\u001b[39;00m\n\u001b[32m      3\u001b[39m expected = np.array([\u001b[32m2\u001b[39m, \u001b[32m4\u001b[39m, \u001b[32m6\u001b[39m, \u001b[32m8\u001b[39m, \u001b[32m10\u001b[39m])\n\u001b[32m----> \u001b[39m\u001b[32m4\u001b[39m \u001b[38;5;28;01massert\u001b[39;00m np.array_equal(doubled, expected), \u001b[33m\"\u001b[39m\u001b[33mMake sure your array has numbers 1-5 and each is multiplied by 2!\u001b[39m\u001b[33m\"\u001b[39m\n",
            "\u001b[31mAssertionError\u001b[39m: Make sure your array has numbers 1-5 and each is multiplied by 2!"
          ]
        }
      ],
      "source": [
        "#@title Test cases (DO NOT EDIT)\n",
        "\n",
        "expected = np.array([2, 4, 6, 8, 10])\n",
        "assert np.array_equal(doubled, expected), \"Make sure your array has numbers 1-5 and each is multiplied by 2!\""
      ]
    }
  ],
  "metadata": {
    "colab": {
      "include_colab_link": true,
      "provenance": []
    },
    "kernelspec": {
      "display_name": ".venv",
      "language": "python",
      "name": "python3"
    },
    "language_info": {
      "codemirror_mode": {
        "name": "ipython",
        "version": 3
      },
      "file_extension": ".py",
      "mimetype": "text/x-python",
      "name": "python",
      "nbconvert_exporter": "python",
      "pygments_lexer": "ipython3",
      "version": "3.13.5"
    }
  },
  "nbformat": 4,
  "nbformat_minor": 0
}
