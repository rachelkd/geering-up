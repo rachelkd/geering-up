{
 "cells": [
  {
   "cell_type": "markdown",
   "id": "d9789fd8",
   "metadata": {},
   "source": [
    "# Data Analysis in Python with NumPy and Pandas"
   ]
  },
  {
   "cell_type": "markdown",
   "id": "01c9f3a7",
   "metadata": {},
   "source": [
    "Before we can use libraries, we need to import them.\n",
    "\n",
    "We use the abbreviations `np` and `pd` to make it easier to refer to these packages."
   ]
  },
  {
   "cell_type": "code",
   "execution_count": 2,
   "id": "cacccdae",
   "metadata": {},
   "outputs": [],
   "source": [
    "#@title Imports\n",
    "\n",
    "import numpy as np\n",
    "import pandas as pd"
   ]
  },
  {
   "cell_type": "markdown",
   "id": "9f7d7388",
   "metadata": {},
   "source": [
    "## The `numpy` array"
   ]
  },
  {
   "cell_type": "markdown",
   "id": "5aceacc7",
   "metadata": {},
   "source": [
    "Recall how to create a Python list:"
   ]
  },
  {
   "cell_type": "code",
   "execution_count": 3,
   "id": "3b7616d1",
   "metadata": {},
   "outputs": [],
   "source": [
    "list1 = [1, 2, 3, 4]"
   ]
  },
  {
   "cell_type": "markdown",
   "id": "f0fc6c15",
   "metadata": {},
   "source": [
    "Use the `np.array` function to convert a Python list to a `ndarray`"
   ]
  },
  {
   "cell_type": "code",
   "execution_count": 4,
   "id": "6f509b97",
   "metadata": {},
   "outputs": [
    {
     "name": "stdout",
     "output_type": "stream",
     "text": [
      "[1 2 3 4]\n",
      "<class 'numpy.ndarray'>\n"
     ]
    }
   ],
   "source": [
    "array1 = np.array(list1)\n",
    "\n",
    "print(array1)\n",
    "print(type(array1))"
   ]
  },
  {
   "cell_type": "markdown",
   "id": "fc21bb1f",
   "metadata": {},
   "source": [
    "We start with a Python list (of lists) to create a 2D ndarray."
   ]
  },
  {
   "cell_type": "code",
   "execution_count": 19,
   "id": "f00369d9",
   "metadata": {},
   "outputs": [],
   "source": [
    "# TODO: Create a Python list called list2 that stores two lists [1, 2, 3] and [4, 5, 6]\n",
    "list2 = ..."
   ]
  },
  {
   "cell_type": "code",
   "execution_count": 20,
   "id": "ed759a7d",
   "metadata": {},
   "outputs": [
    {
     "name": "stdout",
     "output_type": "stream",
     "text": [
      "Ellipsis\n",
      "()\n"
     ]
    }
   ],
   "source": [
    "array2 = np.array(list2)\n",
    "\n",
    "print(array2)\n",
    "print(array2.shape)"
   ]
  },
  {
   "cell_type": "code",
   "execution_count": 24,
   "id": "c8f4ef1c",
   "metadata": {},
   "outputs": [
    {
     "ename": "AssertionError",
     "evalue": "Expected array2 to be [[1, 2, 3], [4, 5, 6]]. Was Ellipsis",
     "output_type": "error",
     "traceback": [
      "\u001b[31m---------------------------------------------------------------------------\u001b[39m",
      "\u001b[31mAssertionError\u001b[39m                            Traceback (most recent call last)",
      "\u001b[36mCell\u001b[39m\u001b[36m \u001b[39m\u001b[32mIn[24]\u001b[39m\u001b[32m, line 3\u001b[39m\n\u001b[32m      1\u001b[39m \u001b[38;5;66;03m#@title Test cases (DO NOT EDIT)\u001b[39;00m\n\u001b[32m----> \u001b[39m\u001b[32m3\u001b[39m \u001b[38;5;28;01massert\u001b[39;00m np.array_equal(array2, np.array([[\u001b[32m1\u001b[39m, \u001b[32m2\u001b[39m, \u001b[32m3\u001b[39m], [\u001b[32m4\u001b[39m, \u001b[32m5\u001b[39m, \u001b[32m6\u001b[39m]])), \u001b[33mf\u001b[39m\u001b[33m\"\u001b[39m\u001b[33mExpected array2 to be [[1, 2, 3], [4, 5, 6]]. Was \u001b[39m\u001b[38;5;132;01m{\u001b[39;00marray2\u001b[38;5;132;01m}\u001b[39;00m\u001b[33m\"\u001b[39m\n",
      "\u001b[31mAssertionError\u001b[39m: Expected array2 to be [[1, 2, 3], [4, 5, 6]]. Was Ellipsis"
     ]
    }
   ],
   "source": [
    "#@title Test cases (DO NOT EDIT)\n",
    "\n",
    "assert np.array_equal(array2, np.array([[1, 2, 3], [4, 5, 6]])), f\"Expected array2 to be [[1, 2, 3], [4, 5, 6]]. Was {array2}\""
   ]
  },
  {
   "cell_type": "code",
   "execution_count": 36,
   "id": "f18b3e6b",
   "metadata": {},
   "outputs": [
    {
     "name": "stdout",
     "output_type": "stream",
     "text": [
      "[[1 2 3]\n",
      " [4 5 6]]\n",
      "(2, 3)\n",
      "False\n",
      "--------------------------------------------------\n",
      "[[[ 1  2  3  4]\n",
      "  [ 4  5  6  7]\n",
      "  [ 8  9 10 11]]\n",
      "\n",
      " [[ 7  8  9 10]\n",
      "  [10 11 12 13]\n",
      "  [14 15 16 17]]]\n",
      "array4 is a 3D array\n",
      "(2, 3, 4)\n"
     ]
    }
   ],
   "source": [
    "# You can also create arrays like this:\n",
    "\n",
    "array3 = np.array([[1, 2, 3], [4, 5, 6]])\n",
    "print(array3)\n",
    "print(array3.shape)\n",
    "print(np.array_equal(array2, array3))\n",
    "\n",
    "print(\"--------------------------------------------------\")\n",
    "\n",
    "array4 = np.array([\n",
    "    [\n",
    "        [1, 2, 3, 4],\n",
    "        [4, 5, 6, 7],\n",
    "        [8, 9, 10, 11]\n",
    "    ],\n",
    "    [\n",
    "        [7, 8, 9, 10],\n",
    "        [10, 11, 12, 13],\n",
    "        [14, 15, 16, 17]\n",
    "    ]\n",
    "])\n",
    "print(array4)\n",
    "print(\"array4 is a 3D array\")\n",
    "print(array4.shape)"
   ]
  },
  {
   "cell_type": "markdown",
   "id": "fde6a7f4",
   "metadata": {},
   "source": [
    "When you have a NumPy array, you can use `.shape` to find out its size:\n",
    "\n",
    "- `.shape` returns a **tuple** that shows how many rows and columns the array has\n",
    "- The format is always `(rows, columns)` for 2D arrays\n",
    "\n",
    "You can think of `.shape` as asking:\n",
    "\n",
    "> \"How big is this array?\"\n",
    "\n",
    "This is called **dot notation** because we access the attribute using a dot: `array.shape`.\n",
    "\n",
    "Try the examples below and fill in the missing shapes."
   ]
  },
  {
   "cell_type": "code",
   "execution_count": 25,
   "id": "775be1bf",
   "metadata": {},
   "outputs": [],
   "source": [
    "# TODO: Create an array with 2 rows and 2 columns\n",
    "a = np.array(...)\n",
    "\n",
    "# TODO: Create an array with 1 row and 3 columns\n",
    "b = np.array(...)\n",
    "\n",
    "# TODO: Create an array with 3 rows and 1 column\n",
    "c = np.array(...)"
   ]
  },
  {
   "cell_type": "code",
   "execution_count": 26,
   "id": "11ea5faa",
   "metadata": {},
   "outputs": [
    {
     "ename": "AssertionError",
     "evalue": "Expected a to be shape (2, 2). Was ()",
     "output_type": "error",
     "traceback": [
      "\u001b[31m---------------------------------------------------------------------------\u001b[39m",
      "\u001b[31mAssertionError\u001b[39m                            Traceback (most recent call last)",
      "\u001b[36mCell\u001b[39m\u001b[36m \u001b[39m\u001b[32mIn[26]\u001b[39m\u001b[32m, line 2\u001b[39m\n\u001b[32m      1\u001b[39m \u001b[38;5;66;03m#@title Test cases (DO NOT EDIT)\u001b[39;00m\n\u001b[32m----> \u001b[39m\u001b[32m2\u001b[39m \u001b[38;5;28;01massert\u001b[39;00m a.shape == (\u001b[32m2\u001b[39m, \u001b[32m2\u001b[39m), \u001b[33mf\u001b[39m\u001b[33m\"\u001b[39m\u001b[33mExpected a to be shape (2, 2). Was \u001b[39m\u001b[38;5;132;01m{\u001b[39;00ma.shape\u001b[38;5;132;01m}\u001b[39;00m\u001b[33m\"\u001b[39m\n\u001b[32m      3\u001b[39m \u001b[38;5;28;01massert\u001b[39;00m b.shape == (\u001b[32m1\u001b[39m, \u001b[32m3\u001b[39m), \u001b[33mf\u001b[39m\u001b[33m\"\u001b[39m\u001b[33mExpected b to be shape (1, 3). Was \u001b[39m\u001b[38;5;132;01m{\u001b[39;00mb.shape\u001b[38;5;132;01m}\u001b[39;00m\u001b[33m\"\u001b[39m\n\u001b[32m      4\u001b[39m \u001b[38;5;28;01massert\u001b[39;00m c.shape == (\u001b[32m3\u001b[39m, \u001b[32m1\u001b[39m), \u001b[33mf\u001b[39m\u001b[33m\"\u001b[39m\u001b[33mExpected c to be shape (3, 1). Was \u001b[39m\u001b[38;5;132;01m{\u001b[39;00mc.shape\u001b[38;5;132;01m}\u001b[39;00m\u001b[33m\"\u001b[39m\n",
      "\u001b[31mAssertionError\u001b[39m: Expected a to be shape (2, 2). Was ()"
     ]
    }
   ],
   "source": [
    "#@title Test cases (DO NOT EDIT)\n",
    "assert a.shape == (2, 2), f\"Expected a to be shape (2, 2). Was {a.shape}\"\n",
    "assert b.shape == (1, 3), f\"Expected b to be shape (1, 3). Was {b.shape}\"\n",
    "assert c.shape == (3, 1), f\"Expected c to be shape (3, 1). Was {c.shape}\""
   ]
  },
  {
   "cell_type": "markdown",
   "id": "9b26a4e0",
   "metadata": {},
   "source": [
    "### Timing comparisons: Python lists vs. ndarrays\n",
    "\n",
    "We use ndarrays because it is much faster to perform calculations on them compared to Python lists.\n",
    "\n",
    "Let's explore how the times differ for the same calculation on the same data for Python lists vs. ndarrays!\n",
    "Run the code below multiple times :)"
   ]
  },
  {
   "cell_type": "code",
   "execution_count": 40,
   "id": "4a7af574",
   "metadata": {},
   "outputs": [
    {
     "name": "stdout",
     "output_type": "stream",
     "text": [
      "Python list time: 0.34501 seconds\n",
      "NumPy array time: 0.01750 seconds\n",
      "NumPy is about 19.72x faster than list comprehension.\n"
     ]
    }
   ],
   "source": [
    "import time\n",
    "\n",
    "# Create a large dataset\n",
    "size = 10_000_000\n",
    "py_list = list(range(size))\n",
    "np_array = np.arange(size)\n",
    "\n",
    "# Timing: Multiply every element by 2\n",
    "\n",
    "# Python list (using list comprehension)\n",
    "start = time.time()\n",
    "py_result = [x * 2 for x in py_list]  # This is the same as using a for loop\n",
    "end = time.time()\n",
    "list_time = end - start\n",
    "print(f\"Python list time: {list_time:.5f} seconds\")\n",
    "\n",
    "# NumPy array (vectorized)\n",
    "start = time.time()\n",
    "np_result = np_array * 2\n",
    "end = time.time()\n",
    "numpy_time = end - start\n",
    "print(f\"NumPy array time: {numpy_time:.5f} seconds\")\n",
    "\n",
    "# Comparison\n",
    "speedup = list_time / numpy_time if numpy_time > 0 else float('inf')\n",
    "print(f\"NumPy is about {speedup:.2f}x faster than list comprehension.\")\n"
   ]
  },
  {
   "cell_type": "markdown",
   "id": "55d71280",
   "metadata": {},
   "source": [
    "## 🐼 Pandas DataFrame\n",
    "\n",
    "A **DataFrame** is a table of data. It’s like a spreadsheet in Excel or Google Sheets, but in Python.\n",
    "\n",
    "Each **row** is one record (like one person, one item, one event).  \n",
    "Each **column** is a variable (like name, age, score, etc.).\n",
    "\n",
    "You can:\n",
    "\n",
    "- Create a DataFrame from a Python dictionary\n",
    "- View the first few rows with `.head()`\n",
    "- Access a column with `df[\"column_name\"]`\n",
    "- Get information about the data with `.info()` or `.describe()`"
   ]
  },
  {
   "cell_type": "code",
   "execution_count": 44,
   "id": "b56def75",
   "metadata": {},
   "outputs": [
    {
     "data": {
      "text/html": [
       "<div>\n",
       "<style scoped>\n",
       "    .dataframe tbody tr th:only-of-type {\n",
       "        vertical-align: middle;\n",
       "    }\n",
       "\n",
       "    .dataframe tbody tr th {\n",
       "        vertical-align: top;\n",
       "    }\n",
       "\n",
       "    .dataframe thead th {\n",
       "        text-align: right;\n",
       "    }\n",
       "</style>\n",
       "<table border=\"1\" class=\"dataframe\">\n",
       "  <thead>\n",
       "    <tr style=\"text-align: right;\">\n",
       "      <th></th>\n",
       "      <th>Student</th>\n",
       "      <th>Grade</th>\n",
       "      <th>Math_Score</th>\n",
       "    </tr>\n",
       "  </thead>\n",
       "  <tbody>\n",
       "    <tr>\n",
       "      <th>0</th>\n",
       "      <td>Ava</td>\n",
       "      <td>9</td>\n",
       "      <td>95</td>\n",
       "    </tr>\n",
       "    <tr>\n",
       "      <th>1</th>\n",
       "      <td>Ben</td>\n",
       "      <td>8</td>\n",
       "      <td>88</td>\n",
       "    </tr>\n",
       "    <tr>\n",
       "      <th>2</th>\n",
       "      <td>Cara</td>\n",
       "      <td>9</td>\n",
       "      <td>76</td>\n",
       "    </tr>\n",
       "    <tr>\n",
       "      <th>3</th>\n",
       "      <td>Dan</td>\n",
       "      <td>8</td>\n",
       "      <td>90</td>\n",
       "    </tr>\n",
       "  </tbody>\n",
       "</table>\n",
       "</div>"
      ],
      "text/plain": [
       "  Student  Grade  Math_Score\n",
       "0     Ava      9          95\n",
       "1     Ben      8          88\n",
       "2    Cara      9          76\n",
       "3     Dan      8          90"
      ]
     },
     "execution_count": 44,
     "metadata": {},
     "output_type": "execute_result"
    }
   ],
   "source": [
    "# Create a DataFrame\n",
    "data = {\n",
    "    \"Student\": [\"Ava\", \"Ben\", \"Cara\", \"Dan\"],\n",
    "    \"Grade\": [9, 8, 9, 8],\n",
    "    \"Math_Score\": [95, 88, 76, 90]\n",
    "}\n",
    "\n",
    "df = pd.DataFrame(data)\n",
    "\n",
    "df"
   ]
  },
  {
   "cell_type": "code",
   "execution_count": 45,
   "id": "2c6a348e",
   "metadata": {},
   "outputs": [
    {
     "name": "stdout",
     "output_type": "stream",
     "text": [
      "  Student  Grade  Math_Score\n",
      "0     Ava      9          95\n",
      "1     Ben      8          88\n",
      "2    Cara      9          76\n",
      "3     Dan      8          90\n"
     ]
    }
   ],
   "source": [
    "# View the first few rows\n",
    "print(df.head())"
   ]
  },
  {
   "cell_type": "code",
   "execution_count": 49,
   "id": "507fe1b4",
   "metadata": {},
   "outputs": [
    {
     "name": "stdout",
     "output_type": "stream",
     "text": [
      "Math Scores:\n",
      "0    95\n",
      "1    88\n",
      "2    76\n",
      "3    90\n",
      "Name: Math_Score, dtype: int64\n"
     ]
    }
   ],
   "source": [
    "# Access a single column\n",
    "print(\"Math Scores:\")\n",
    "print(df[\"Math_Score\"])"
   ]
  },
  {
   "cell_type": "code",
   "execution_count": 50,
   "id": "75427d9d",
   "metadata": {},
   "outputs": [
    {
     "name": "stdout",
     "output_type": "stream",
     "text": [
      "Description:\n",
      "         Grade  Math_Score\n",
      "count  4.00000    4.000000\n",
      "mean   8.50000   87.250000\n",
      "std    0.57735    8.057088\n",
      "min    8.00000   76.000000\n",
      "25%    8.00000   85.000000\n",
      "50%    8.50000   89.000000\n",
      "75%    9.00000   91.250000\n",
      "max    9.00000   95.000000\n"
     ]
    }
   ],
   "source": [
    "# Get summary statistics\n",
    "print(\"Description:\")\n",
    "print(df.describe())"
   ]
  },
  {
   "cell_type": "code",
   "execution_count": 52,
   "id": "1f9d3b3c",
   "metadata": {},
   "outputs": [
    {
     "data": {
      "text/html": [
       "<div>\n",
       "<style scoped>\n",
       "    .dataframe tbody tr th:only-of-type {\n",
       "        vertical-align: middle;\n",
       "    }\n",
       "\n",
       "    .dataframe tbody tr th {\n",
       "        vertical-align: top;\n",
       "    }\n",
       "\n",
       "    .dataframe thead th {\n",
       "        text-align: right;\n",
       "    }\n",
       "</style>\n",
       "<table border=\"1\" class=\"dataframe\">\n",
       "  <thead>\n",
       "    <tr style=\"text-align: right;\">\n",
       "      <th></th>\n",
       "      <th>Student</th>\n",
       "      <th>Grade</th>\n",
       "      <th>Math_Score</th>\n",
       "      <th>Passed</th>\n",
       "    </tr>\n",
       "  </thead>\n",
       "  <tbody>\n",
       "    <tr>\n",
       "      <th>0</th>\n",
       "      <td>Ava</td>\n",
       "      <td>9</td>\n",
       "      <td>95</td>\n",
       "      <td>True</td>\n",
       "    </tr>\n",
       "    <tr>\n",
       "      <th>1</th>\n",
       "      <td>Ben</td>\n",
       "      <td>8</td>\n",
       "      <td>88</td>\n",
       "      <td>True</td>\n",
       "    </tr>\n",
       "    <tr>\n",
       "      <th>2</th>\n",
       "      <td>Cara</td>\n",
       "      <td>9</td>\n",
       "      <td>76</td>\n",
       "      <td>False</td>\n",
       "    </tr>\n",
       "    <tr>\n",
       "      <th>3</th>\n",
       "      <td>Dan</td>\n",
       "      <td>8</td>\n",
       "      <td>90</td>\n",
       "      <td>True</td>\n",
       "    </tr>\n",
       "  </tbody>\n",
       "</table>\n",
       "</div>"
      ],
      "text/plain": [
       "  Student  Grade  Math_Score  Passed\n",
       "0     Ava      9          95    True\n",
       "1     Ben      8          88    True\n",
       "2    Cara      9          76   False\n",
       "3     Dan      8          90    True"
      ]
     },
     "execution_count": 52,
     "metadata": {},
     "output_type": "execute_result"
    }
   ],
   "source": [
    "# Add a new column\n",
    "df[\"Passed\"] = df[\"Math_Score\"] >= 80\n",
    "df"
   ]
  },
  {
   "cell_type": "markdown",
   "id": "6abcf609",
   "metadata": {},
   "source": [
    "### Test Your Understanding\n",
    "\n",
    "1. Create a DataFrame with this dictionary:\n",
    "\n",
    "    ```python\n",
    "    {\n",
    "        \"item\": [\"pencil\", \"notebook\", \"eraser\"],\n",
    "        \"price\": [1.5, 3.0, 0.75],\n",
    "        \"in_stock\": [True, False, True]\n",
    "    }\n",
    "    ```\n",
    "\n",
    "2. Use `.head()` to print the first few rows.\n",
    "3. Add a new column called \"discounted\" that is `True` if the price is less than `2.0`."
   ]
  },
  {
   "cell_type": "code",
   "execution_count": 54,
   "id": "63556b5d",
   "metadata": {},
   "outputs": [],
   "source": [
    "# TODO: Create a dictionary called store with keys: item, price, in_stock\n",
    "store = ...\n",
    "\n",
    "# TODO: Create a DataFrame called df with the dictionary store\n",
    "df = ..."
   ]
  },
  {
   "cell_type": "code",
   "execution_count": null,
   "id": "42533e9e",
   "metadata": {},
   "outputs": [],
   "source": [
    "# TODO: Call head on your data"
   ]
  },
  {
   "cell_type": "code",
   "execution_count": null,
   "id": "2920d8b9",
   "metadata": {},
   "outputs": [],
   "source": [
    "# TODO: Add new column discounted that is True if the price < 2.0"
   ]
  },
  {
   "cell_type": "code",
   "execution_count": 58,
   "id": "15bdffdd",
   "metadata": {},
   "outputs": [
    {
     "ename": "AssertionError",
     "evalue": "store dictionary is incorrect. Are dictionary keys lowercase?",
     "output_type": "error",
     "traceback": [
      "\u001b[31m---------------------------------------------------------------------------\u001b[39m",
      "\u001b[31mAssertionError\u001b[39m                            Traceback (most recent call last)",
      "\u001b[36mCell\u001b[39m\u001b[36m \u001b[39m\u001b[32mIn[58]\u001b[39m\u001b[32m, line 2\u001b[39m\n\u001b[32m      1\u001b[39m \u001b[38;5;66;03m#@title Test cases (DO NOT EDIT)\u001b[39;00m\n\u001b[32m----> \u001b[39m\u001b[32m2\u001b[39m \u001b[38;5;28;01massert\u001b[39;00m store == {\n\u001b[32m      3\u001b[39m      \u001b[33m\"\u001b[39m\u001b[33mitem\u001b[39m\u001b[33m\"\u001b[39m: [\u001b[33m\"\u001b[39m\u001b[33mpencil\u001b[39m\u001b[33m\"\u001b[39m, \u001b[33m\"\u001b[39m\u001b[33mnotebook\u001b[39m\u001b[33m\"\u001b[39m, \u001b[33m\"\u001b[39m\u001b[33meraser\u001b[39m\u001b[33m\"\u001b[39m],\n\u001b[32m      4\u001b[39m     \u001b[33m\"\u001b[39m\u001b[33mprice\u001b[39m\u001b[33m\"\u001b[39m: [\u001b[32m1.5\u001b[39m, \u001b[32m3.0\u001b[39m, \u001b[32m0.75\u001b[39m],\n\u001b[32m      5\u001b[39m     \u001b[33m\"\u001b[39m\u001b[33min_stock\u001b[39m\u001b[33m\"\u001b[39m: [\u001b[38;5;28;01mTrue\u001b[39;00m, \u001b[38;5;28;01mFalse\u001b[39;00m, \u001b[38;5;28;01mTrue\u001b[39;00m]\n\u001b[32m      6\u001b[39m }, \u001b[33m\"\u001b[39m\u001b[33mstore dictionary is incorrect. Are dictionary keys lowercase?\u001b[39m\u001b[33m\"\u001b[39m\n\u001b[32m      7\u001b[39m \u001b[38;5;28;01massert\u001b[39;00m \u001b[38;5;28misinstance\u001b[39m(df, pd.DataFrame), \u001b[33m\"\u001b[39m\u001b[33mdf should be a DataFrame\u001b[39m\u001b[33m\"\u001b[39m\n\u001b[32m      8\u001b[39m \u001b[38;5;28;01massert\u001b[39;00m df.shape == (\u001b[32m3\u001b[39m, \u001b[32m4\u001b[39m), \u001b[33mf\u001b[39m\u001b[33m\"\u001b[39m\u001b[33mShape should be (3, 4). Was \u001b[39m\u001b[38;5;132;01m{\u001b[39;00mdf.shape\u001b[38;5;132;01m}\u001b[39;00m\u001b[33m\"\u001b[39m\n",
      "\u001b[31mAssertionError\u001b[39m: store dictionary is incorrect. Are dictionary keys lowercase?"
     ]
    }
   ],
   "source": [
    "#@title Test cases (DO NOT EDIT)\n",
    "assert store == {\n",
    "     \"item\": [\"pencil\", \"notebook\", \"eraser\"],\n",
    "    \"price\": [1.5, 3.0, 0.75],\n",
    "    \"in_stock\": [True, False, True]\n",
    "}, \"store dictionary is incorrect. Are dictionary keys lowercase?\"\n",
    "assert isinstance(df, pd.DataFrame), \"df should be a DataFrame\"\n",
    "assert df.shape == (3, 4), f\"Shape should be (3, 4). Was {df.shape}\"\n",
    "assert df[\"discounted\"].tolist() == [True, False, True], \"Discounted column values are incorrect\"\n",
    "assert \"in_stock\" in df.columns, \"in_stock column missing\""
   ]
  },
  {
   "cell_type": "markdown",
   "id": "8058d561",
   "metadata": {},
   "source": [
    "## Spotify Dataset"
   ]
  },
  {
   "cell_type": "code",
   "execution_count": null,
   "id": "91bb6566",
   "metadata": {},
   "outputs": [],
   "source": [
    "import kagglehub\n",
    "from kagglehub import KaggleDatasetAdapter\n",
    "\n",
    "# Set the path to the file you'd like to load\n",
    "file_path = \"\"\n",
    "\n",
    "# Load the latest version\n",
    "df = kagglehub.load_dataset(\n",
    "  KaggleDatasetAdapter.PANDAS,\n",
    "  \"nelgiriyewithana/top-spotify-songs-2023\",\n",
    "  file_path,\n",
    "  # Provide any additional arguments like\n",
    "  # sql_query or pandas_kwargs. See the\n",
    "  # documenation for more information:\n",
    "  # https://github.com/Kaggle/kagglehub/blob/main/README.md#kaggledatasetadapterpandas\n",
    ")"
   ]
  }
 ],
 "metadata": {
  "kernelspec": {
   "display_name": ".venv",
   "language": "python",
   "name": "python3"
  },
  "language_info": {
   "codemirror_mode": {
    "name": "ipython",
    "version": 3
   },
   "file_extension": ".py",
   "mimetype": "text/x-python",
   "name": "python",
   "nbconvert_exporter": "python",
   "pygments_lexer": "ipython3",
   "version": "3.13.5"
  }
 },
 "nbformat": 4,
 "nbformat_minor": 5
}
