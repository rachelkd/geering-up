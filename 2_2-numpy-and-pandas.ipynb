{
 "cells": [
  {
   "cell_type": "markdown",
   "id": "d9789fd8",
   "metadata": {},
   "source": [
    "# Data Analysis in Python with NumPy and Pandas\n",
    "\n",
    "<a href=\"https://colab.research.google.com/github/rachelkd/geering-up/blob/main/1_2-introduction-to-python.ipynb\" target=\"_parent\"><img src=\"https://colab.research.google.com/assets/colab-badge.svg\" alt=\"Open In Colab\"/></a>"
   ]
  },
  {
   "cell_type": "markdown",
   "id": "01c9f3a7",
   "metadata": {},
   "source": [
    "Before we can use libraries, we need to import them.\n",
    "\n",
    "We use the abbreviations `np` and `pd` to make it easier to refer to these packages."
   ]
  },
  {
   "cell_type": "code",
   "execution_count": null,
   "id": "cacccdae",
   "metadata": {},
   "outputs": [],
   "source": [
    "#@title Imports\n",
    "\n",
    "import numpy as np\n",
    "import pandas as pd"
   ]
  },
  {
   "cell_type": "markdown",
   "id": "9f7d7388",
   "metadata": {},
   "source": [
    "## The `numpy` array"
   ]
  },
  {
   "cell_type": "markdown",
   "id": "5aceacc7",
   "metadata": {},
   "source": [
    "Recall how to create a Python list:"
   ]
  },
  {
   "cell_type": "code",
   "execution_count": null,
   "id": "3b7616d1",
   "metadata": {},
   "outputs": [],
   "source": [
    "list1 = [1, 2, 3, 4]"
   ]
  },
  {
   "cell_type": "markdown",
   "id": "f0fc6c15",
   "metadata": {},
   "source": [
    "Use the `np.array` function to convert a Python list to a `ndarray`"
   ]
  },
  {
   "cell_type": "code",
   "execution_count": null,
   "id": "6f509b97",
   "metadata": {},
   "outputs": [],
   "source": [
    "array1 = np.array(list1)\n",
    "\n",
    "print(array1)\n",
    "print(type(array1))"
   ]
  },
  {
   "cell_type": "markdown",
   "id": "fc21bb1f",
   "metadata": {},
   "source": [
    "We start with a Python list (of lists) to create a 2D ndarray."
   ]
  },
  {
   "cell_type": "code",
   "execution_count": null,
   "id": "f00369d9",
   "metadata": {},
   "outputs": [],
   "source": [
    "# TODO: Create a Python list called list2 that stores two lists [1, 2, 3] and [4, 5, 6]\n",
    "list2 = ..."
   ]
  },
  {
   "cell_type": "code",
   "execution_count": null,
   "id": "ed759a7d",
   "metadata": {},
   "outputs": [],
   "source": [
    "array2 = np.array(list2)\n",
    "\n",
    "print(array2)\n",
    "print(array2.shape)"
   ]
  },
  {
   "cell_type": "code",
   "execution_count": null,
   "id": "c8f4ef1c",
   "metadata": {},
   "outputs": [],
   "source": [
    "#@title Test cases (DO NOT EDIT)\n",
    "\n",
    "assert np.array_equal(array2, np.array([[1, 2, 3], [4, 5, 6]])), f\"Expected array2 to be [[1, 2, 3], [4, 5, 6]]. Was {array2}\""
   ]
  },
  {
   "cell_type": "code",
   "execution_count": null,
   "id": "f18b3e6b",
   "metadata": {},
   "outputs": [],
   "source": [
    "# You can also create arrays like this:\n",
    "\n",
    "array3 = np.array([[1, 2, 3], [4, 5, 6]])\n",
    "print(array3)\n",
    "print(array3.shape)\n",
    "print(np.array_equal(array2, array3))\n",
    "\n",
    "print(\"--------------------------------------------------\")\n",
    "\n",
    "array4 = np.array([\n",
    "    [\n",
    "        [1, 2, 3, 4],\n",
    "        [4, 5, 6, 7],\n",
    "        [8, 9, 10, 11]\n",
    "    ],\n",
    "    [\n",
    "        [7, 8, 9, 10],\n",
    "        [10, 11, 12, 13],\n",
    "        [14, 15, 16, 17]\n",
    "    ]\n",
    "])\n",
    "print(array4)\n",
    "print(\"array4 is a 3D array\")\n",
    "print(array4.shape)"
   ]
  },
  {
   "cell_type": "markdown",
   "id": "fde6a7f4",
   "metadata": {},
   "source": [
    "When you have a NumPy array, you can use `.shape` to find out its size:\n",
    "\n",
    "- `.shape` returns a **tuple** that shows how many rows and columns the array has\n",
    "- The format is always `(rows, columns)` for 2D arrays\n",
    "\n",
    "You can think of `.shape` as asking:\n",
    "\n",
    "> \"How big is this array?\"\n",
    "\n",
    "This is called **dot notation** because we access the attribute using a dot: `array.shape`.\n",
    "\n",
    "Try the examples below and fill in the missing shapes."
   ]
  },
  {
   "cell_type": "code",
   "execution_count": null,
   "id": "775be1bf",
   "metadata": {},
   "outputs": [],
   "source": [
    "# TODO: Create an array with 2 rows and 2 columns\n",
    "a = np.array(...)\n",
    "\n",
    "# TODO: Create an array with 1 row and 3 columns\n",
    "b = np.array(...)\n",
    "\n",
    "# TODO: Create an array with 3 rows and 1 column\n",
    "c = np.array(...)"
   ]
  },
  {
   "cell_type": "code",
   "execution_count": null,
   "id": "11ea5faa",
   "metadata": {},
   "outputs": [],
   "source": [
    "#@title Test cases (DO NOT EDIT)\n",
    "assert a.shape == (2, 2), f\"Expected a to be shape (2, 2). Was {a.shape}\"\n",
    "assert b.shape == (3,), f\"Expected b to be shape (1, 3). Was {b.shape}\"\n",
    "assert c.shape == (3, 1), f\"Expected c to be shape (3, 1). Was {c.shape}\""
   ]
  },
  {
   "cell_type": "markdown",
   "id": "9b26a4e0",
   "metadata": {},
   "source": [
    "### Timing comparisons: Python lists vs. ndarrays\n",
    "\n",
    "We use ndarrays because it is much faster to perform calculations on them compared to Python lists.\n",
    "\n",
    "Let's explore how the times differ for the same calculation on the same data for Python lists vs. ndarrays!\n",
    "Run the code below multiple times :)"
   ]
  },
  {
   "cell_type": "code",
   "execution_count": null,
   "id": "4a7af574",
   "metadata": {},
   "outputs": [],
   "source": [
    "import time\n",
    "\n",
    "# Create a large dataset\n",
    "size = 10_000_000\n",
    "py_list = list(range(size))\n",
    "np_array = np.arange(size)\n",
    "\n",
    "# Timing: Multiply every element by 2\n",
    "\n",
    "# Python list (using list comprehension)\n",
    "start = time.time()\n",
    "py_result = [x * 2 for x in py_list]  # This is the same as using a for loop\n",
    "end = time.time()\n",
    "list_time = end - start\n",
    "print(f\"Python list time: {list_time:.5f} seconds\")\n",
    "\n",
    "# NumPy array (vectorized)\n",
    "start = time.time()\n",
    "np_result = np_array * 2\n",
    "end = time.time()\n",
    "numpy_time = end - start\n",
    "print(f\"NumPy array time: {numpy_time:.5f} seconds\")\n",
    "\n",
    "# Comparison\n",
    "speedup = list_time / numpy_time if numpy_time > 0 else float('inf')\n",
    "print(f\"NumPy is about {speedup:.2f}x faster than list comprehension.\")\n"
   ]
  },
  {
   "cell_type": "markdown",
   "id": "55d71280",
   "metadata": {},
   "source": [
    "## 🐼 Pandas DataFrame\n",
    "\n",
    "A **DataFrame** is a table of data. It’s like a spreadsheet in Excel or Google Sheets, but in Python.\n",
    "\n",
    "Each **row** is one record (like one person, one item, one event).  \n",
    "Each **column** is a variable (like name, age, score, etc.).\n",
    "\n",
    "You can:\n",
    "\n",
    "- Create a DataFrame from a Python dictionary\n",
    "- View the first few rows with `.head()`\n",
    "- Access a column with `df[\"column_name\"]`\n",
    "- Get information about the data with `.info()` or `.describe()`"
   ]
  },
  {
   "cell_type": "code",
   "execution_count": null,
   "id": "b56def75",
   "metadata": {},
   "outputs": [],
   "source": [
    "# Create a DataFrame\n",
    "data = {\n",
    "    \"Student\": [\"Ava\", \"Ben\", \"Cara\", \"Dan\"],\n",
    "    \"Grade\": [9, 8, 9, 8],\n",
    "    \"Math_Score\": [95, 88, 76, 90]\n",
    "}\n",
    "\n",
    "df = pd.DataFrame(data)\n",
    "\n",
    "df"
   ]
  },
  {
   "cell_type": "code",
   "execution_count": null,
   "id": "2c6a348e",
   "metadata": {},
   "outputs": [],
   "source": [
    "# View the first few rows\n",
    "print(df.head())"
   ]
  },
  {
   "cell_type": "code",
   "execution_count": null,
   "id": "507fe1b4",
   "metadata": {},
   "outputs": [],
   "source": [
    "# Access a single column\n",
    "print(\"Math Scores:\")\n",
    "print(df[\"Math_Score\"])"
   ]
  },
  {
   "cell_type": "code",
   "execution_count": null,
   "id": "75427d9d",
   "metadata": {},
   "outputs": [],
   "source": [
    "# Get summary statistics\n",
    "print(\"Description:\")\n",
    "print(df.describe())"
   ]
  },
  {
   "cell_type": "code",
   "execution_count": null,
   "id": "1f9d3b3c",
   "metadata": {},
   "outputs": [],
   "source": [
    "# Add a new column\n",
    "df[\"Passed\"] = df[\"Math_Score\"] >= 80\n",
    "df"
   ]
  },
  {
   "cell_type": "markdown",
   "id": "6abcf609",
   "metadata": {},
   "source": [
    "### Test Your Understanding\n",
    "\n",
    "1. Create a DataFrame with this dictionary:\n",
    "\n",
    "    ```python\n",
    "    {\n",
    "        \"item\": [\"pencil\", \"notebook\", \"eraser\"],\n",
    "        \"price\": [1.5, 3.0, 0.75],\n",
    "        \"in_stock\": [True, False, True]\n",
    "    }\n",
    "    ```\n",
    "\n",
    "2. Use `.head()` to print the first few rows.\n",
    "3. Add a new column called \"discounted\" that is `True` if the price is less than `2.0`."
   ]
  },
  {
   "cell_type": "code",
   "execution_count": null,
   "id": "63556b5d",
   "metadata": {},
   "outputs": [],
   "source": [
    "# TODO: Create a dictionary called store with keys: item, price, in_stock\n",
    "store = ...\n",
    "\n",
    "# TODO: Create a DataFrame called df with the dictionary store\n",
    "df = ..."
   ]
  },
  {
   "cell_type": "code",
   "execution_count": null,
   "id": "42533e9e",
   "metadata": {},
   "outputs": [],
   "source": [
    "# TODO: Call head on your data"
   ]
  },
  {
   "cell_type": "code",
   "execution_count": null,
   "id": "2920d8b9",
   "metadata": {},
   "outputs": [],
   "source": [
    "# TODO: Add new column discounted that is True if the price < 2.0"
   ]
  },
  {
   "cell_type": "code",
   "execution_count": null,
   "id": "15bdffdd",
   "metadata": {},
   "outputs": [],
   "source": [
    "#@title Test cases (DO NOT EDIT)\n",
    "assert store == {\n",
    "     \"item\": [\"pencil\", \"notebook\", \"eraser\"],\n",
    "    \"price\": [1.5, 3.0, 0.75],\n",
    "    \"in_stock\": [True, False, True]\n",
    "}, \"store dictionary is incorrect. Are dictionary keys lowercase?\"\n",
    "assert isinstance(df, pd.DataFrame), \"df should be a DataFrame\"\n",
    "assert df.shape == (3, 4), f\"Shape should be (3, 4). Was {df.shape}\"\n",
    "assert df[\"discounted\"].tolist() == [True, False, True], \"Discounted column values are incorrect\"\n",
    "assert \"in_stock\" in df.columns, \"in_stock column missing\""
   ]
  },
  {
   "cell_type": "markdown",
   "id": "8058d561",
   "metadata": {},
   "source": [
    "## Spotify Dataset: Scavenger Hunt\n",
    "\n",
    "We are going to practice using Pandas with Spotify's Top Songs of 2023.\n",
    "\n",
    "Dataset from [kaggle.com/datasets/nelgiriyewithana/top-spotify-songs-2023](https://www.kaggle.com/datasets/nelgiriyewithana/top-spotify-songs-2023)."
   ]
  },
  {
   "cell_type": "code",
   "execution_count": null,
   "id": "91bb6566",
   "metadata": {},
   "outputs": [],
   "source": [
    "# Create a DataFrame for Spotify\n",
    "data_root = \"https://github.com/rachelkd/geering-up/raw/refs/heads/main/data/\"\n",
    "spotify_df = pd.read_csv(data_root + \"spotify-2023.csv\", encoding=\"latin-1\")"
   ]
  },
  {
   "cell_type": "code",
   "execution_count": null,
   "id": "51592159",
   "metadata": {},
   "outputs": [],
   "source": [
    "# Convert object types to integer types\n",
    "spotify_df[\"streams\"] = pd.to_numeric(spotify_df[\"streams\"], errors=\"coerce\")\n",
    "spotify_df[\"in_shazam_charts\"] = pd.to_numeric(spotify_df[\"in_shazam_charts\"], errors=\"coerce\")"
   ]
  },
  {
   "cell_type": "code",
   "execution_count": null,
   "id": "2a4da220",
   "metadata": {},
   "outputs": [],
   "source": [
    "spotify_df.head()\n",
    "spotify_df"
   ]
  },
  {
   "cell_type": "code",
   "execution_count": null,
   "id": "99d3669c",
   "metadata": {},
   "outputs": [],
   "source": [
    "# See the names of columns and their datatypes (dtypes)\n",
    "spotify_df.info()"
   ]
  },
  {
   "cell_type": "markdown",
   "id": "13a06c8c",
   "metadata": {},
   "source": [
    "### Kendrick or Drake?\n",
    "\n",
    "Who got more streams in 2023? Let's use Python to figure out."
   ]
  },
  {
   "cell_type": "code",
   "execution_count": null,
   "id": "15c991a5",
   "metadata": {},
   "outputs": [],
   "source": [
    "# Filter rows for each artist\n",
    "kendrick_rows = spotify_df[spotify_df[\"artist(s)_name\"].str.contains(\"kendrick\", case=False, na=False)]\n",
    "drake_rows = spotify_df[spotify_df[\"artist(s)_name\"].str.contains(\"drake\", case=False, na=False)]\n",
    "\n",
    "# Compute total streams and number of tracks\n",
    "data = {\n",
    "    \"artist\": [\"Kendrick Lamar\", \"Drake\"],\n",
    "    \"total_streams\": [kendrick_rows[\"streams\"].sum(), drake_rows[\"streams\"].sum()],\n",
    "    \"track_count\": [kendrick_rows.shape[0], drake_rows.shape[0]],\n",
    "}\n",
    "\n",
    "# Create a new DataFrame\n",
    "artist_summary_df = pd.DataFrame(data)\n",
    "\n",
    "print(\"🎵 Kendrick Lamar:\")\n",
    "for i, track in enumerate(sorted(kendrick_rows[\"track_name\"])):\n",
    "    print(f\"{i + 1}. {track}\")\n",
    "\n",
    "print(\"\\n🎵 Drake:\")\n",
    "for i, track in enumerate(sorted(drake_rows[\"track_name\"])):\n",
    "    print(f\"{i + 1}. {track}\")\n",
    "\n",
    "print(\"\\n\\n\")\n",
    "print(artist_summary_df.head())\n",
    "\n",
    "\n",
    "kendrick_total_streams = artist_summary_df[artist_summary_df[\"artist\"] == \"Kendrick Lamar\"][\"total_streams\"].values[0]\n",
    "drake_total_streams = artist_summary_df[artist_summary_df[\"artist\"] == \"Drake\"][\"total_streams\"].values[0]\n",
    "\n",
    "\n",
    "if kendrick_total_streams > drake_total_streams:\n",
    "    print(f\"\\nKendrick Lamar has more streams: {kendrick_total_streams:,}\")\n",
    "elif drake_total_streams > kendrick_total_streams:\n",
    "    print(f\"\\nDrake has more streams: {drake_total_streams:,}\")\n",
    "else:\n",
    "    print(f\"\\nBoth artists have the same number of streams: {kendrick_total_streams:,}\")\n",
    "\n"
   ]
  },
  {
   "cell_type": "markdown",
   "id": "837fe5a8",
   "metadata": {},
   "source": [
    "### Task: Which rows/records have missing values?"
   ]
  },
  {
   "cell_type": "code",
   "execution_count": null,
   "id": "d8956195",
   "metadata": {},
   "outputs": [],
   "source": [
    "# spotify_df.isnull() returns a DataFrame of the same shape, with True where values are missing\n",
    "spotify_df.isnull()"
   ]
  },
  {
   "cell_type": "code",
   "execution_count": null,
   "id": "70badab6",
   "metadata": {},
   "outputs": [],
   "source": [
    "# TODO: Use .sum() on the DataFrame that .isnull() returns to see how many samples of each column are missing\n",
    "val_missing = ...\n",
    "\n",
    "val_missing"
   ]
  },
  {
   "cell_type": "code",
   "execution_count": null,
   "id": "df806a2b",
   "metadata": {},
   "outputs": [],
   "source": [
    "# TODO: Which columns have missing values?\n",
    "# Write answer as a list of strings where the strings are the names of the columns\n",
    "\n",
    "answer = [...]"
   ]
  },
  {
   "cell_type": "code",
   "execution_count": null,
   "id": "be0d889b",
   "metadata": {},
   "outputs": [],
   "source": [
    "#@title Test cases (DO NOT EDIT)\n",
    "expected = [\"in_shazam_charts\", \"key\", \"streams\"]\n",
    "\n",
    "assert isinstance(answer, list), \"Answer must be a list\"\n",
    "assert sorted(answer) == sorted(expected), \"Answer has the incorrect keys\"\n",
    "\n",
    "print(\"Task 1 passed!\")"
   ]
  },
  {
   "cell_type": "markdown",
   "id": "959d508a",
   "metadata": {},
   "source": [
    "### Task: Filtering Rows Based on Column Value\n",
    "\n",
    "Practice Boolean indexing to select rows using conditions.\n",
    "\n",
    "In Pandas, `DataFrame[condition]` is how we filter rows.\n",
    "The condition returns a mask (a Series of True/False), and only rows with True are kept."
   ]
  },
  {
   "cell_type": "code",
   "execution_count": null,
   "id": "81a51ad8",
   "metadata": {},
   "outputs": [],
   "source": [
    "# TODO: Create a DataFrame popular_songs that contains only rows from spotify_df with 10 million or more streams\n",
    "# Hint: spotify_df[\"streams\"] >= 10_000_000 creates a Boolean Series (a list of True or False values)\n",
    "popular_songs = ..."
   ]
  },
  {
   "cell_type": "code",
   "execution_count": null,
   "id": "717855a6",
   "metadata": {},
   "outputs": [],
   "source": [
    "#@title Test cases (DO NOT EDIT)\n",
    "assert 'popular_songs' in globals(), \"popular_songs must be defined\"\n",
    "assert isinstance(popular_songs, type(spotify_df)), \"popular_songs should be a DataFrame\"\n",
    "assert (popular_songs['streams'] >= 10_000_000).all(), \"Every song should have popularity >= 95\"\n",
    "\n",
    "print(\"Task 2 passed!\")"
   ]
  },
  {
   "cell_type": "markdown",
   "id": "c5e30298",
   "metadata": {},
   "source": [
    "### Task: Grouping and Aggregation\n",
    "\n",
    "Use `.groupby()` to analyze data by categories, such as seeing how many songs each artist has in the dataset."
   ]
  },
  {
   "cell_type": "code",
   "execution_count": null,
   "id": "673ffd2e",
   "metadata": {},
   "outputs": [],
   "source": [
    "# TODO: Get the top 10 artists that show up most frequently in the dataset\n",
    "# Hint: .groupby(\"artist(s)_name\") groups the DataFrame by each unique value in the \"artist(s)_name\" column.\n",
    "# Each group contains all rows (songs) by a single artist.\n",
    "# After grouping, select the \"track_name\" column for each group. This narrows the grouped data down to just the song names.\n",
    "# Use .count() to count the non-null song names for each artist\n",
    "# Use .sort\n",
    "# Use .head(n) to select the first 10 (make sure to set function args correctly)\n",
    "\n",
    "\n",
    "most_freq_artists = ...\n",
    "\n",
    "print(most_freq_artists)\n",
    "print(\"--------------------\")\n",
    "print(most_freq_artists.name)  # should tell us what we are counting\n",
    "print(most_freq_artists.index.name)  # should tell us what the keys mean"
   ]
  },
  {
   "cell_type": "code",
   "execution_count": null,
   "id": "480e263a",
   "metadata": {},
   "outputs": [],
   "source": [
    "#@title Test cases (DO NOT EDIT)\n",
    "expected = spotify_df.groupby(\"artist(s)_name\")[\"track_name\"].count().sort_values(ascending=False).head(10)\n",
    "\n",
    "assert isinstance(most_freq_artists, pd.Series), \"most_freq_artists should be a Series\"\n",
    "assert most_freq_artists.name in ['track_name'], \"Series name should be track_name\"\n",
    "assert most_freq_artists.index.name in ['artist(s)_name'], \"Series index should be artist\"\n",
    "\n",
    "try:\n",
    "    pd.testing.assert_series_equal(most_freq_artists, expected)\n",
    "    print(\"Task 3 passed!\")\n",
    "except AssertionError:\n",
    "    raise AssertionError(f\"Incorrect series.\\n\\nExpected:\\n{expected}.\\n\\nGot:\\n{most_freq_artists}\") from None\n"
   ]
  },
  {
   "cell_type": "markdown",
   "id": "e8717935",
   "metadata": {},
   "source": [
    "### Task: Sorting Rows\n",
    "Order your DataFrame using .sort_values(), e.g., to see top results."
   ]
  },
  {
   "cell_type": "code",
   "execution_count": null,
   "id": "64369f8d",
   "metadata": {},
   "outputs": [],
   "source": [
    "# TODO: Create sorted_by_most_streams that has rows of spotify_df sorted descending (greatest to least)\n",
    "# for streams\n",
    "sorted_by_most_streams = ...\n",
    "\n",
    "sorted_by_most_streams"
   ]
  },
  {
   "cell_type": "code",
   "execution_count": null,
   "id": "46ada283",
   "metadata": {},
   "outputs": [],
   "source": [
    "# TODO: What was the most streamed song in 2023?\n",
    "# Write your answer as a string\n",
    "\n",
    "answer = ..."
   ]
  },
  {
   "cell_type": "code",
   "execution_count": null,
   "id": "17ab155e",
   "metadata": {},
   "outputs": [],
   "source": [
    "#@title Test Cases (DO NOT EDIT)\n",
    "expected = \"blinding lights\"\n",
    "\n",
    "assert answer.lower() == expected, \"Not the right song!\""
   ]
  },
  {
   "cell_type": "markdown",
   "id": "248001e8",
   "metadata": {},
   "source": [
    "### Solutions"
   ]
  },
  {
   "cell_type": "code",
   "execution_count": null,
   "id": "dc0322e5",
   "metadata": {},
   "outputs": [],
   "source": [
    "# Task 1\n",
    "answer = [\"key\", \"in_shazam_charts\"]\n",
    "# Task 2\n",
    "popular_songs = spotify_df[spotify_df[\"streams\"] >= 10_000_000]\n",
    "# Task 3\n",
    "most_freq_artists = spotify_df.groupby(\"artist(s)_name\")[\"track_name\"].count().sort_values(ascending=False).head(10)\n",
    "# Task 4\n",
    "sorted_by_most_streams = spotify_df.sort_values(by=\"streams\", ascending=False)\n"
   ]
  }
 ],
 "metadata": {
  "kernelspec": {
   "display_name": ".venv",
   "language": "python",
   "name": "python3"
  },
  "language_info": {
   "codemirror_mode": {
    "name": "ipython",
    "version": 3
   },
   "file_extension": ".py",
   "mimetype": "text/x-python",
   "name": "python",
   "nbconvert_exporter": "python",
   "pygments_lexer": "ipython3",
   "version": "3.11.12"
  }
 },
 "nbformat": 4,
 "nbformat_minor": 5
}
