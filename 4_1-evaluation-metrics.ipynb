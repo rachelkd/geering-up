{
 "cells": [
  {
   "cell_type": "markdown",
   "id": "a65bcee7",
   "metadata": {},
   "source": [
    "# Evaluation Metrics\n",
    "\n",
    "## Problem Statement\n",
    "\n",
    "### 🏎️ Predicting Formula 1 Driver Positions"
   ]
  },
  {
   "cell_type": "code",
   "execution_count": 1,
   "id": "d66f22c8",
   "metadata": {},
   "outputs": [],
   "source": [
    "import pandas as pd\n",
    "import numpy as np\n",
    "# import seaborn as sns\n",
    "import matplotlib as plt\n",
    "import sklearn as sk"
   ]
  },
  {
   "cell_type": "code",
   "execution_count": 5,
   "id": "b54f02b3",
   "metadata": {},
   "outputs": [],
   "source": [
    "data_root = \"https://github.com/rachelkd/geering-up/raw/refs/heads/main/data/\"\n",
    "\n",
    "f1_data_path = \"data/f1nalyze/\""
   ]
  },
  {
   "cell_type": "code",
   "execution_count": 6,
   "id": "f8f5395a",
   "metadata": {},
   "outputs": [
    {
     "name": "stderr",
     "output_type": "stream",
     "text": [
      "/var/folders/fg/lvh1jbmd4rq06w0kvqyjg57h0000gn/T/ipykernel_58992/1345205544.py:1: DtypeWarning: Columns (4,13,14,16,47) have mixed types. Specify dtype option on import or set low_memory=False.\n",
      "  train_data = pd.read_csv(f1_data_path + \"train.csv\")\n"
     ]
    }
   ],
   "source": [
    "train_data = pd.read_csv(f1_data_path + \"train.csv\")"
   ]
  },
  {
   "cell_type": "code",
   "execution_count": null,
   "id": "668e77f2",
   "metadata": {},
   "outputs": [],
   "source": []
  }
 ],
 "metadata": {
  "kernelspec": {
   "display_name": ".venv",
   "language": "python",
   "name": "python3"
  },
  "language_info": {
   "codemirror_mode": {
    "name": "ipython",
    "version": 3
   },
   "file_extension": ".py",
   "mimetype": "text/x-python",
   "name": "python",
   "nbconvert_exporter": "python",
   "pygments_lexer": "ipython3",
   "version": "3.11.12"
  }
 },
 "nbformat": 4,
 "nbformat_minor": 5
}
