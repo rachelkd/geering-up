{
 "cells": [
  {
   "cell_type": "markdown",
   "metadata": {
    "id": "WZBrrEyZOsn6"
   },
   "source": [
    "## Imports"
   ]
  },
  {
   "cell_type": "code",
   "execution_count": null,
   "metadata": {
    "id": "uHE7HhLZ6utW"
   },
   "outputs": [],
   "source": [
    "# basic imports for libraries\n",
    "import numpy as np\n",
    "import matplotlib.pyplot as plt\n",
    "import pandas as pd\n",
    "\n",
    "# model imports\n",
    "from sklearn.svm import SVC\n",
    "from sklearn.tree import DecisionTreeClassifier, DecisionTreeRegressor\n",
    "from sklearn.linear_model import LogisticRegression, Ridge\n",
    "from sklearn.neighbors import KNeighborsClassifier, KNeighborsRegressor\n",
    "from sklearn.ensemble import RandomForestClassifier, RandomForestRegressor\n",
    "\n",
    "# evaluation and training imports\n",
    "from sklearn.metrics import accuracy_score, roc_auc_score, f1_score, average_precision_score, mean_squared_error, r2_score, root_mean_squared_error, mean_absolute_percentage_error\n",
    "from sklearn.model_selection import train_test_split\n",
    "\n",
    "# preprocessing imports\n",
    "from sklearn.preprocessing import OrdinalEncoder, OneHotEncoder, StandardScaler, MinMaxScaler\n",
    "from sklearn.impute import SimpleImputer\n",
    "from sklearn.compose import make_column_transformer\n",
    "from sklearn.pipeline import make_pipeline"
   ]
  },
  {
   "cell_type": "markdown",
   "metadata": {
    "id": "Pc8sY5-5qOeZ"
   },
   "source": [
    "# Weeklong Project: Supervised Learning Model\n",
    "Welcome to the starter file for your weeklong project! This is an opportunity for you to work independently with a supervised learning model. There will not be much guidance in this file, so you should rely on [scikit-learn documentation](https://scikit-learn.org/stable/api/index.html) and the other files we've worked on this week for help. Feel free to add new cells and imports as needed.\n",
    "## Exploratory Data Analysis\n",
    "Get to know your data a little better, and start planning out preprocessing steps."
   ]
  },
  {
   "cell_type": "code",
   "execution_count": null,
   "metadata": {},
   "outputs": [],
   "source": [
    "data_root = \"https://github.com/rachelkd/geering-up/raw/refs/heads/main/\""
   ]
  },
  {
   "cell_type": "code",
   "execution_count": null,
   "metadata": {
    "colab": {
     "base_uri": "https://localhost:8080/",
     "height": 424
    },
    "id": "krj8ZRd26nLj",
    "outputId": "881aae10-a097-4804-fd4a-15fbcf68fa42"
   },
   "outputs": [],
   "source": [
    "# TODO: Uncomment one of these lines to select a dataset\n",
    "# poke_data = pd.read_csv(data_root + \"data/pokemon.csv\")\n",
    "# cereal_data = pd.read_csv(data_root + \"data/cereal.csv\")\n",
    "# penguin_data = pd.read_csv(data_root + \"data/penguins_size.csv\")"
   ]
  },
  {
   "cell_type": "markdown",
   "metadata": {
    "id": "Em6wTYbFqZma"
   },
   "source": [
    "## Splitting Data\n",
    "Identify your features and target, and split your data into training and testing sets."
   ]
  },
  {
   "cell_type": "code",
   "execution_count": null,
   "metadata": {},
   "outputs": [],
   "source": []
  },
  {
   "cell_type": "markdown",
   "metadata": {
    "id": "Em6wTYbFqZma"
   },
   "source": [
    "## Preprocessing\n",
    "Preprocess your data, keeping in mind the golden rule."
   ]
  },
  {
   "cell_type": "code",
   "execution_count": null,
   "metadata": {},
   "outputs": [],
   "source": []
  },
  {
   "cell_type": "markdown",
   "metadata": {},
   "source": [
    "## Training and Testing\n",
    "Choose an evaluation metric to score your models on. Then, train and optimize the hyperparameters for at least 3 different models and see which one works best.\n",
    "\n",
    "If you've chosen a **classification problem**, your metric could be:\n",
    "- Accuracy (default)\n",
    "- Precision\n",
    "- Recall\n",
    "- F1 score\n",
    "- ROC AUC\n",
    "- etc...\n",
    "\n",
    "Your models could be:\n",
    "- `SVC` (linear or RBF)\n",
    "- `KNeighborsClassifier`\n",
    "- `DecisionTreeClassifier`\n",
    "- `LogisticRegression`\n",
    "- `RandomForestClassifier`\n",
    "- etc...\n",
    "\n",
    "If you've chosen a **regression problem**, your metric could be:\n",
    "- R^2 score (default)\n",
    "- Mean squared error (MSE) /root of mean squared error (RMSE)\n",
    "- Mean absolute percentage error (MAPE)\n",
    "- etc...\n",
    "\n",
    "Your models could be:\n",
    "- `SVR` (linear and/or RBF)\n",
    "- `KNeighborsRegressor`\n",
    "- `DecisionTreeRegressor`\n",
    "- `Ridge` (linear model)\n",
    "- `RandomForestRegressor`\n",
    "- etc..."
   ]
  },
  {
   "cell_type": "code",
   "execution_count": null,
   "metadata": {},
   "outputs": [],
   "source": []
  },
  {
   "cell_type": "markdown",
   "metadata": {},
   "source": [
    "## Final Report\n",
    "Report your best model's metric. How do you feel about this score? Is there anything you could change?\n",
    "\n",
    "If you have time, prepare a presentation or report discussing:\n",
    "- Which dataset you picked\n",
    "- What preprocessing you had to do\n",
    "- Which columns you dropped, if any\n",
    "- Which 3 models you chose\n",
    "- Which evaluation metric(s) you chose\n",
    "- What hyperparameter tuning was like\n",
    "- Which model performed the best\n",
    "- Your opinion on the best model's predictions"
   ]
  },
  {
   "cell_type": "code",
   "execution_count": null,
   "metadata": {},
   "outputs": [],
   "source": []
  }
 ],
 "metadata": {
  "colab": {
   "collapsed_sections": [
    "WZBrrEyZOsn6"
   ],
   "gpuType": "T4",
   "provenance": []
  },
  "kernelspec": {
   "display_name": "Python 3 (ipykernel)",
   "language": "python",
   "name": "python3"
  },
  "language_info": {
   "codemirror_mode": {
    "name": "ipython",
    "version": 3
   },
   "file_extension": ".py",
   "mimetype": "text/x-python",
   "name": "python",
   "nbconvert_exporter": "python",
   "pygments_lexer": "ipython3",
   "version": "3.10.18"
  }
 },
 "nbformat": 4,
 "nbformat_minor": 4
}
